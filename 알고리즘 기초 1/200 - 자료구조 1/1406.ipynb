{
 "cells": [
  {
   "cell_type": "code",
   "execution_count": null,
   "metadata": {},
   "outputs": [],
   "source": [
    "# 두개의 stack을 이용하여 시간복잡도를 줄인다\n",
    "# 문제의 요구조건은 O(1)시간 안에 풀기를 원하는 것 같다\n",
    "# 따라서 idx를 이용한 pop, insert는 O(n)time이 걸린다\n",
    "# 커서를 기준으로 왼쪽 스택 오른쪽 스택을 나누고\n",
    "# insert는 왼쪽 스택 push로 대체 가능\n",
    "# del는 왼쪽 스택 pop으로 대체 가능"
   ]
  },
  {
   "cell_type": "code",
   "execution_count": null,
   "metadata": {},
   "outputs": [],
   "source": [
    "from sys import stdin\n",
    "from collections import deque"
   ]
  },
  {
   "cell_type": "code",
   "execution_count": null,
   "metadata": {},
   "outputs": [],
   "source": [
    "l, r = deque(stdin.readline().rstrip()), deque()\n",
    "for _ in range(int(stdin.readline().rstrip())):\n",
    "    c = stdin.readline().split()\n",
    "    if c[0] == 'L':\n",
    "        if l:\n",
    "            r.appendleft(l.pop())\n",
    "    elif c[0] == 'D':\n",
    "        if r:\n",
    "            l.append(r.popleft())\n",
    "    elif c[0] == 'B':\n",
    "        if l:\n",
    "            l.pop()\n",
    "    else:\n",
    "        l.append(c[1])\n",
    "l.extend(r)\n",
    "print(''.join(l))"
   ]
  }
 ],
 "metadata": {
  "kernelspec": {
   "display_name": "Python 3",
   "language": "python",
   "name": "python3"
  },
  "language_info": {
   "codemirror_mode": {
    "name": "ipython",
    "version": 3
   },
   "file_extension": ".py",
   "mimetype": "text/x-python",
   "name": "python",
   "nbconvert_exporter": "python",
   "pygments_lexer": "ipython3",
   "version": "3.7.6"
  }
 },
 "nbformat": 4,
 "nbformat_minor": 4
}
