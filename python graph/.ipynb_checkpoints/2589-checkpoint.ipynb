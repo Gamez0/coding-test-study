{
 "cells": [
  {
   "cell_type": "code",
   "execution_count": 42,
   "metadata": {},
   "outputs": [],
   "source": [
    "from collections import deque\n",
    "from sys import stdin\n",
    "input=stdin.readline"
   ]
  },
  {
   "cell_type": "code",
   "execution_count": 43,
   "metadata": {
    "scrolled": false
   },
   "outputs": [
    {
     "name": "stdout",
     "output_type": "stream",
     "text": [
      "5 7\n",
      "WLLWWWL\n",
      "LLLWLLL\n",
      "LWLWLWW\n",
      "LWLWLLL\n",
      "WLLWLWW\n"
     ]
    }
   ],
   "source": [
    "n,m=map(int,input().split())\n",
    "g=[list(input().strip()) for _ in range(n)]\n",
    "visited=[[False]*m for _ in range(n)]\n",
    "di=(-1,0,1,0)\n",
    "dj=(0,1,0,-1)"
   ]
  },
  {
   "cell_type": "code",
   "execution_count": 45,
   "metadata": {},
   "outputs": [],
   "source": [
    "def BFS(i,j):\n",
    "    q=deque()\n",
    "    q.append((i,j,0))\n",
    "    visited[i][j]=True\n",
    "    cnt = 0\n",
    "    while q:\n",
    "        x,y,d=q.popleft()\n",
    "        for k in range(4):\n",
    "            i,j=x+di[k],y+dj[k]\n",
    "            if i<0 or i>=n or j<0 or j>=m:\n",
    "                continue\n",
    "            if visited[i][j] is False and g[i][j]=='L':\n",
    "                q.append((i,j,d+1))\n",
    "                visited[i][j]=True\n",
    "                cnt=max(cnt,d+1)\n",
    "    return cnt"
   ]
  },
  {
   "cell_type": "code",
   "execution_count": 46,
   "metadata": {},
   "outputs": [
    {
     "name": "stdout",
     "output_type": "stream",
     "text": [
      "8\n"
     ]
    }
   ],
   "source": [
    "ans=0\n",
    "for i in range(n):\n",
    "    for j in range(m):\n",
    "        if g[i][j]=='L':\n",
    "            visited=[[False]*m for _ in range(n)]\n",
    "            ans=max(ans,BFS(i,j))\n",
    "print(ans)"
   ]
  },
  {
   "cell_type": "code",
   "execution_count": null,
   "metadata": {},
   "outputs": [],
   "source": []
  }
 ],
 "metadata": {
  "kernelspec": {
   "display_name": "Python 3",
   "language": "python",
   "name": "python3"
  },
  "language_info": {
   "codemirror_mode": {
    "name": "ipython",
    "version": 3
   },
   "file_extension": ".py",
   "mimetype": "text/x-python",
   "name": "python",
   "nbconvert_exporter": "python",
   "pygments_lexer": "ipython3",
   "version": "3.7.6"
  }
 },
 "nbformat": 4,
 "nbformat_minor": 4
}
