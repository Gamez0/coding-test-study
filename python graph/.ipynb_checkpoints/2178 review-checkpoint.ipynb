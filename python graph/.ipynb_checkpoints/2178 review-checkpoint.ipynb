{
 "cells": [
  {
   "cell_type": "code",
   "execution_count": 22,
   "metadata": {},
   "outputs": [],
   "source": [
    "from collections import deque"
   ]
  },
  {
   "cell_type": "code",
   "execution_count": 23,
   "metadata": {},
   "outputs": [],
   "source": [
    "di=[0,0,1,-1]\n",
    "dj=[1,-1,0,0]"
   ]
  },
  {
   "cell_type": "code",
   "execution_count": 24,
   "metadata": {},
   "outputs": [],
   "source": [
    "def bfs():\n",
    "    q=deque()\n",
    "    q.append([0,0])\n",
    "    cnt=1\n",
    "    visited=[[0]* m for _ in range(n)]\n",
    "    visited[0][0]=1\n",
    "    while q:\n",
    "        v=q.popleft()\n",
    "        for k in range(4):\n",
    "            i=v[0]+di[k]\n",
    "            j=v[1]+dj[k]\n",
    "            if i<0 or i>n-1 or j<0 or j>m-1 or g[i][j]==0:\n",
    "                continue\n",
    "            else:\n",
    "                q.append([i,j])\n",
    "                visited[i][j]=visited[v[0]][v[1]]+1\n",
    "                g[i][j]=0\n",
    "    return visited[n-1][m-1]"
   ]
  },
  {
   "cell_type": "code",
   "execution_count": 30,
   "metadata": {},
   "outputs": [
    {
     "name": "stdout",
     "output_type": "stream",
     "text": [
      "7 7\n",
      "1011111\n",
      "1110001\n",
      "1000001\n",
      "1000001\n",
      "1000001\n",
      "1000001\n",
      "1111111\n",
      "13\n"
     ]
    }
   ],
   "source": [
    "n,m=map(int,input().split())\n",
    "g=[list(map(int,input().strip())) for _ in range(n)]\n",
    "print(bfs())"
   ]
  },
  {
   "cell_type": "code",
   "execution_count": null,
   "metadata": {},
   "outputs": [],
   "source": []
  }
 ],
 "metadata": {
  "kernelspec": {
   "display_name": "Python 3",
   "language": "python",
   "name": "python3"
  },
  "language_info": {
   "codemirror_mode": {
    "name": "ipython",
    "version": 3
   },
   "file_extension": ".py",
   "mimetype": "text/x-python",
   "name": "python",
   "nbconvert_exporter": "python",
   "pygments_lexer": "ipython3",
   "version": "3.7.6"
  }
 },
 "nbformat": 4,
 "nbformat_minor": 4
}
