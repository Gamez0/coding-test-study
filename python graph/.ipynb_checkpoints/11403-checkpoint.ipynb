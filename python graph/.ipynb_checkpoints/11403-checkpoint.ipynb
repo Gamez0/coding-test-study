{
 "cells": [
  {
   "cell_type": "code",
   "execution_count": 14,
   "metadata": {},
   "outputs": [
    {
     "name": "stdout",
     "output_type": "stream",
     "text": [
      "7\n",
      "0 0 0 1 0 0 0\n",
      "0 0 0 0 0 0 1\n",
      "0 0 0 0 0 0 0\n",
      "0 0 0 0 1 1 0\n",
      "1 0 0 0 0 0 0\n",
      "0 0 0 0 0 0 1\n",
      "0 0 1 0 0 0 0\n"
     ]
    }
   ],
   "source": [
    "from sys import stdin\n",
    "n=int(stdin.readline())\n",
    "graph = [list(map(int,stdin.readline().split())) for _ in range(n)]"
   ]
  },
  {
   "cell_type": "code",
   "execution_count": 17,
   "metadata": {},
   "outputs": [],
   "source": [
    "for i in range(n):\n",
    "    for j in range(n):\n",
    "        if graph[i][j]==1:\n",
    "#             graph[j][i]=1\n",
    "            for k in range(n):\n",
    "                if graph[j][k]==1:\n",
    "                    graph[i][k]=1\n",
    "for i in range(n):\n",
    "    for j in range(n):\n",
    "        if graph[i][j]==1:\n",
    "#             graph[j][i]=1\n",
    "            for k in range(n):\n",
    "                if graph[j][k]==1:\n",
    "                    graph[i][k]=1"
   ]
  },
  {
   "cell_type": "code",
   "execution_count": 23,
   "metadata": {},
   "outputs": [
    {
     "name": "stdout",
     "output_type": "stream",
     "text": [
      "1 0 1 1 1 1 1 \n",
      "0 0 1 0 0 0 1 \n",
      "0 0 0 0 0 0 0 \n",
      "1 0 1 1 1 1 1 \n",
      "1 0 1 1 1 1 1 \n",
      "0 0 1 0 0 0 1 \n",
      "0 0 1 0 0 0 0 \n"
     ]
    }
   ],
   "source": [
    "for i in range(n):\n",
    "    for j in range(n):\n",
    "        print(graph[i][j],end=' ')\n",
    "    print()"
   ]
  }
 ],
 "metadata": {
  "kernelspec": {
   "display_name": "Python 3",
   "language": "python",
   "name": "python3"
  },
  "language_info": {
   "codemirror_mode": {
    "name": "ipython",
    "version": 3
   },
   "file_extension": ".py",
   "mimetype": "text/x-python",
   "name": "python",
   "nbconvert_exporter": "python",
   "pygments_lexer": "ipython3",
   "version": "3.7.6"
  }
 },
 "nbformat": 4,
 "nbformat_minor": 4
}
