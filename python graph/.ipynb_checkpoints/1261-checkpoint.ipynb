{
 "cells": [
  {
   "cell_type": "code",
   "execution_count": 1,
   "metadata": {},
   "outputs": [],
   "source": [
    "from collections import deque"
   ]
  },
  {
   "cell_type": "code",
   "execution_count": 38,
   "metadata": {},
   "outputs": [],
   "source": [
    "di=[0,0,1,-1]\n",
    "dj=[1,-1,0,0]\n",
    "def BFS():\n",
    "    visited=[[False]*n for _ in range(m)]\n",
    "    q=deque()\n",
    "    q.append((0,0,0))\n",
    "    visited[0][0]=True\n",
    "    ans=100001\n",
    "    while q:\n",
    "        v=q.popleft()\n",
    "        if v[0]==m-1 and v[1]==n-1:\n",
    "            ans=min(ans,v[2])\n",
    "            continue\n",
    "        for k in range(4):\n",
    "            i=v[0]+di[k]\n",
    "            j=v[1]+dj[k]\n",
    "            if 0<=i<m and 0<=j<n:\n",
    "                if visited[i][j]==False:\n",
    "                    visited[i][j]=True\n",
    "                    if maze[i][j]==1:\n",
    "                        k=v[2]+1\n",
    "                        q.append((i,j,k))\n",
    "                    else:\n",
    "                        k=v[2]\n",
    "                        q.appendleft((i,j,k))\n",
    "    print(ans)"
   ]
  },
  {
   "cell_type": "code",
   "execution_count": 39,
   "metadata": {},
   "outputs": [
    {
     "name": "stdout",
     "output_type": "stream",
     "text": [
      "23 3\n",
      "00101110111000000110100\n",
      "01001111101010010001100\n",
      "11000001010110010110000\n",
      "0 1\n",
      "1 0\n",
      "1 1\n",
      "2 0\n",
      "0 2\n",
      "1 2\n",
      "2 1\n",
      "1 3\n",
      "2 2\n",
      "2 3\n",
      "2 4\n",
      "2 5\n",
      "1 4\n",
      "2 6\n",
      "1 5\n",
      "2 7\n",
      "1 6\n",
      "0 3\n",
      "0 4\n",
      "0 5\n",
      "2 8\n",
      "1 7\n",
      "2 9\n",
      "1 8\n",
      "0 6\n",
      "0 7\n",
      "0 8\n",
      "2 10\n",
      "1 9\n",
      "1 10\n",
      "0 9\n",
      "2 11\n",
      "1 11\n",
      "0 10\n",
      "1 12\n",
      "0 11\n",
      "0 12\n",
      "0 13\n",
      "0 14\n",
      "1 13\n",
      "1 14\n",
      "2 13\n",
      "2 14\n",
      "2 12\n",
      "2 15\n",
      "1 15\n",
      "0 15\n",
      "0 16\n",
      "0 17\n",
      "1 16\n",
      "1 17\n",
      "2 16\n",
      "2 17\n",
      "1 18\n",
      "1 19\n",
      "2 18\n",
      "0 18\n",
      "1 20\n",
      "2 19\n",
      "0 19\n",
      "0 20\n",
      "2 20\n",
      "2 21\n",
      "2 22\n",
      "1 21\n",
      "1 22\n",
      "0 21\n",
      "0 22\n",
      "5\n"
     ]
    }
   ],
   "source": [
    "n,m = map(int,input().split())\n",
    "maze=[list(map(int,input().strip())) for _ in range(m)]\n",
    "BFS()"
   ]
  },
  {
   "cell_type": "code",
   "execution_count": null,
   "metadata": {},
   "outputs": [],
   "source": []
  }
 ],
 "metadata": {
  "kernelspec": {
   "display_name": "Python 3",
   "language": "python",
   "name": "python3"
  },
  "language_info": {
   "codemirror_mode": {
    "name": "ipython",
    "version": 3
   },
   "file_extension": ".py",
   "mimetype": "text/x-python",
   "name": "python",
   "nbconvert_exporter": "python",
   "pygments_lexer": "ipython3",
   "version": "3.7.6"
  }
 },
 "nbformat": 4,
 "nbformat_minor": 4
}
