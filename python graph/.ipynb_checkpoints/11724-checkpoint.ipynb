{
 "cells": [
  {
   "cell_type": "code",
   "execution_count": 30,
   "metadata": {},
   "outputs": [],
   "source": [
    "from collections import deque\n",
    "from sys import stdin"
   ]
  },
  {
   "cell_type": "code",
   "execution_count": 31,
   "metadata": {},
   "outputs": [],
   "source": [
    "def DFS(graph,start):\n",
    "    visited=[]\n",
    "    stack=[start]\n",
    "    while stack:\n",
    "        node = stack.pop()\n",
    "        if node not in visited:\n",
    "            visited.append(node)\n",
    "            stack.extend(sorted(graph[node],reverse=True))\n",
    "    return visited"
   ]
  },
  {
   "cell_type": "code",
   "execution_count": 32,
   "metadata": {},
   "outputs": [],
   "source": [
    "def BFS(graph,start):\n",
    "    visited=[]\n",
    "    queue=deque([start])\n",
    "    while queue:\n",
    "        node = queue.popleft()\n",
    "        if node not in visited:\n",
    "            visited.append(node)\n",
    "            queue.extend(sorted(graph[node]))\n",
    "    return visited"
   ]
  },
  {
   "cell_type": "code",
   "execution_count": 24,
   "metadata": {},
   "outputs": [
    {
     "name": "stdout",
     "output_type": "stream",
     "text": [
      "6 5\n"
     ]
    }
   ],
   "source": [
    "n,m = map(int,input().split())\n",
    "graph = [set([]) for _ in range(n+1)]"
   ]
  },
  {
   "cell_type": "code",
   "execution_count": 25,
   "metadata": {},
   "outputs": [
    {
     "name": "stdout",
     "output_type": "stream",
     "text": [
      "1 2\n",
      "2 5\n",
      "5 1\n",
      "3 4\n",
      "4 6\n"
     ]
    }
   ],
   "source": [
    "for _ in range(m):\n",
    "    a,b = map(int,stdin.readline().split())\n",
    "    graph[a].add(b)\n",
    "    graph[b].add(a)"
   ]
  },
  {
   "cell_type": "code",
   "execution_count": 36,
   "metadata": {},
   "outputs": [
    {
     "name": "stdout",
     "output_type": "stream",
     "text": [
      "[1, 2, 5]\n",
      "[1, 2, 5, 3, 4, 6]\n"
     ]
    }
   ],
   "source": [
    "visited=[]\n",
    "cnt=0\n",
    "for i in range(1,n+1):\n",
    "    if i not in visited:\n",
    "        visited.extend(DFS(graph,i))\n",
    "        cnt+=1"
   ]
  },
  {
   "cell_type": "code",
   "execution_count": 37,
   "metadata": {},
   "outputs": [
    {
     "name": "stdout",
     "output_type": "stream",
     "text": [
      "2\n"
     ]
    }
   ],
   "source": [
    "print(cnt)"
   ]
  },
  {
   "cell_type": "code",
   "execution_count": null,
   "metadata": {},
   "outputs": [],
   "source": []
  }
 ],
 "metadata": {
  "kernelspec": {
   "display_name": "Python 3",
   "language": "python",
   "name": "python3"
  },
  "language_info": {
   "codemirror_mode": {
    "name": "ipython",
    "version": 3
   },
   "file_extension": ".py",
   "mimetype": "text/x-python",
   "name": "python",
   "nbconvert_exporter": "python",
   "pygments_lexer": "ipython3",
   "version": "3.7.6"
  }
 },
 "nbformat": 4,
 "nbformat_minor": 4
}
