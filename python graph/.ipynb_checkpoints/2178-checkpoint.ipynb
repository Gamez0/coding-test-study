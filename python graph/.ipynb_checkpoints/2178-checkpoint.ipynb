{
 "cells": [
  {
   "cell_type": "code",
   "execution_count": 5,
   "metadata": {},
   "outputs": [],
   "source": [
    "from collections import deque"
   ]
  },
  {
   "cell_type": "code",
   "execution_count": 33,
   "metadata": {},
   "outputs": [
    {
     "name": "stdout",
     "output_type": "stream",
     "text": [
      "1 1\n",
      "1\n"
     ]
    }
   ],
   "source": [
    "n,m=map(int,input().split())\n",
    "g = [list(map(int,input().strip())) for _ in range(n)]"
   ]
  },
  {
   "cell_type": "code",
   "execution_count": 34,
   "metadata": {},
   "outputs": [],
   "source": [
    "di=[1,-1,0,0]\n",
    "dj=[0,0,1,-1]\n",
    "def BFS(v):\n",
    "    q=deque()\n",
    "    q.append(v)\n",
    "    visited=[v]\n",
    "    while q and [n-1,m-1] not in visited:\n",
    "        v=q.popleft()\n",
    "        for k in range(4):\n",
    "            i=v[0]+di[k]\n",
    "            j=v[1]+dj[k]\n",
    "            if 0<=i<n and 0<=j<m and g[i][j]==1 and [i,j] not in visited:\n",
    "                q.append([i,j])\n",
    "                visited.append([i,j])\n",
    "                g[i][j]=g[v[0]][v[1]]+1\n",
    "    print(g[n-1][m-1])"
   ]
  },
  {
   "cell_type": "code",
   "execution_count": 35,
   "metadata": {},
   "outputs": [
    {
     "name": "stdout",
     "output_type": "stream",
     "text": [
      "1\n"
     ]
    }
   ],
   "source": [
    "BFS([0,0])"
   ]
  },
  {
   "cell_type": "code",
   "execution_count": null,
   "metadata": {},
   "outputs": [],
   "source": []
  }
 ],
 "metadata": {
  "kernelspec": {
   "display_name": "Python 3",
   "language": "python",
   "name": "python3"
  },
  "language_info": {
   "codemirror_mode": {
    "name": "ipython",
    "version": 3
   },
   "file_extension": ".py",
   "mimetype": "text/x-python",
   "name": "python",
   "nbconvert_exporter": "python",
   "pygments_lexer": "ipython3",
   "version": "3.7.6"
  }
 },
 "nbformat": 4,
 "nbformat_minor": 4
}
