{
 "cells": [
  {
   "cell_type": "code",
   "execution_count": 1,
   "metadata": {},
   "outputs": [],
   "source": [
    "from collections import deque\n",
    "from sys import stdin"
   ]
  },
  {
   "cell_type": "code",
   "execution_count": 20,
   "metadata": {},
   "outputs": [],
   "source": [
    "di=[0,0,1,-1,1,1,-1,-1]\n",
    "dj=[1,-1,0,0,1,-1,1,-1]\n",
    "def BFS(v):# j,i = w,h\n",
    "    queue=deque()\n",
    "    queue.append(v)\n",
    "\n",
    "    while queue:\n",
    "        v = queue.popleft()\n",
    "        for k in range(8):\n",
    "            i=v[0]+di[k]\n",
    "            j=v[1]+dj[k]\n",
    "            if i<0 or i>h-1 or j<0 or j>w-1 or g[i][j]==0:\n",
    "                continue\n",
    "            else:\n",
    "                queue.append([i,j])\n",
    "                g[i][j]=0"
   ]
  },
  {
   "cell_type": "code",
   "execution_count": 21,
   "metadata": {},
   "outputs": [
    {
     "name": "stdout",
     "output_type": "stream",
     "text": [
      "2 2\n",
      "0 1\n",
      "1 0\n",
      "1\n",
      "1 1\n",
      "0\n",
      "0\n",
      "5 5\n",
      "1 0 1 0 1\n",
      "0 0 0 0 0\n",
      "1 0 1 0 1\n",
      "0 0 0 0 0\n",
      "1 0 1 0 1\n",
      "9\n",
      "0 0\n"
     ]
    }
   ],
   "source": [
    "while True:\n",
    "    w,h = map(int,input().split())\n",
    "    if w==0 and h==0:\n",
    "        break\n",
    "    g=[list(map(int,input().split())) for _ in range(h)]\n",
    "    cnt=0\n",
    "    for i in range(h):\n",
    "        for j in range(w):\n",
    "            if g[i][j]:\n",
    "                BFS([i,j])\n",
    "                cnt+=1\n",
    "    print(cnt)"
   ]
  },
  {
   "cell_type": "code",
   "execution_count": null,
   "metadata": {},
   "outputs": [],
   "source": []
  }
 ],
 "metadata": {
  "kernelspec": {
   "display_name": "Python 3",
   "language": "python",
   "name": "python3"
  },
  "language_info": {
   "codemirror_mode": {
    "name": "ipython",
    "version": 3
   },
   "file_extension": ".py",
   "mimetype": "text/x-python",
   "name": "python",
   "nbconvert_exporter": "python",
   "pygments_lexer": "ipython3",
   "version": "3.7.6"
  }
 },
 "nbformat": 4,
 "nbformat_minor": 4
}
