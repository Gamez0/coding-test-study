{
 "cells": [
  {
   "cell_type": "code",
   "execution_count": 19,
   "metadata": {},
   "outputs": [],
   "source": [
    "from collections import deque\n",
    "from sys import stdin"
   ]
  },
  {
   "cell_type": "code",
   "execution_count": 22,
   "metadata": {
    "scrolled": true
   },
   "outputs": [
    {
     "name": "stdout",
     "output_type": "stream",
     "text": [
      "7\n",
      "0110100\n",
      "0110101\n",
      "1110101\n",
      "0000111\n",
      "0100000\n",
      "0111110\n",
      "0111000\n"
     ]
    }
   ],
   "source": [
    "n = int(input())\n",
    "g = [list(map(int,stdin.readline().strip())) for _ in range(n)]"
   ]
  },
  {
   "cell_type": "code",
   "execution_count": 26,
   "metadata": {},
   "outputs": [],
   "source": [
    "di=[1,-1,0,0]\n",
    "dj=[0,0,1,-1]\n",
    "def BFS(v):\n",
    "    cnt=0\n",
    "    queue=deque()\n",
    "    queue.append(v)\n",
    "    g[v[0]][v[1]]=0\n",
    "    while queue:\n",
    "        v=queue.popleft()\n",
    "        cnt+=1\n",
    "        for k in range(4):\n",
    "            i=v[0]+di[k]\n",
    "            j=v[1]+dj[k]\n",
    "            if i<0 or i>n-1 or j<0 or j>n-1 or g[i][j]==0:\n",
    "                continue\n",
    "            else:\n",
    "                queue.append([i,j])\n",
    "                g[i][j]=0\n",
    "    return cnt"
   ]
  },
  {
   "cell_type": "code",
   "execution_count": 27,
   "metadata": {},
   "outputs": [],
   "source": [
    "ans_list = []\n",
    "for i in range(n):\n",
    "    for j in range(n):\n",
    "        if g[i][j]==1:\n",
    "            ans_list.append(BFS([i,j]))"
   ]
  },
  {
   "cell_type": "code",
   "execution_count": 28,
   "metadata": {},
   "outputs": [
    {
     "name": "stdout",
     "output_type": "stream",
     "text": [
      "0\n"
     ]
    }
   ],
   "source": [
    "ans_list.sort()\n",
    "print(len(ans_list))\n",
    "for i in range(len(ans_list)):\n",
    "    print(ans_list[i])"
   ]
  },
  {
   "cell_type": "code",
   "execution_count": null,
   "metadata": {},
   "outputs": [],
   "source": []
  }
 ],
 "metadata": {
  "kernelspec": {
   "display_name": "Python 3",
   "language": "python",
   "name": "python3"
  },
  "language_info": {
   "codemirror_mode": {
    "name": "ipython",
    "version": 3
   },
   "file_extension": ".py",
   "mimetype": "text/x-python",
   "name": "python",
   "nbconvert_exporter": "python",
   "pygments_lexer": "ipython3",
   "version": "3.7.6"
  }
 },
 "nbformat": 4,
 "nbformat_minor": 4
}
