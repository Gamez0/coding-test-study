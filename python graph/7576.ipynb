{
 "cells": [
  {
   "cell_type": "code",
   "execution_count": 5,
   "metadata": {},
   "outputs": [],
   "source": [
    "from collections import deque\n",
    "from sys import stdin"
   ]
  },
  {
   "cell_type": "code",
   "execution_count": 52,
   "metadata": {},
   "outputs": [],
   "source": [
    "di=[1,-1,0,0]\n",
    "dj=[0,0,1,-1]\n",
    "def BFS():\n",
    "    q=deque()\n",
    "    for i in range(n):\n",
    "        for j in range(m):\n",
    "            if g[i][j]==1:\n",
    "                q.append([i,j])\n",
    "    while q:\n",
    "        v=q.popleft()\n",
    "        for k in range(4):\n",
    "            i=v[0]+di[k]\n",
    "            j=v[1]+dj[k]\n",
    "            if 0<=i<n and 0<=j<m and g[i][j]==0:\n",
    "                q.append([i,j])\n",
    "                g[i][j]=g[v[0]][v[1]]+1\n",
    "                \n",
    "    for i in range(n):\n",
    "        for j in range(m):\n",
    "            if g[i][j]==0:\n",
    "                print(-1)\n",
    "                return\n",
    "    ans=max([max(row) for row in g]) # find max in 2d-array\n",
    "    if not ans==-1:\n",
    "        print(ans-1)\n",
    "    else:\n",
    "        print(-1)"
   ]
  },
  {
   "cell_type": "code",
   "execution_count": 53,
   "metadata": {},
   "outputs": [
    {
     "name": "stdout",
     "output_type": "stream",
     "text": [
      "2 2\n",
      "-1 -1\n",
      "-1 -1\n"
     ]
    }
   ],
   "source": [
    "m,n=map(int,input().split())\n",
    "g=[list(map(int,stdin.readline().split())) for _ in range(n)]"
   ]
  },
  {
   "cell_type": "code",
   "execution_count": 54,
   "metadata": {},
   "outputs": [
    {
     "name": "stdout",
     "output_type": "stream",
     "text": [
      "-1\n"
     ]
    }
   ],
   "source": [
    "BFS()"
   ]
  },
  {
   "cell_type": "code",
   "execution_count": null,
   "metadata": {},
   "outputs": [],
   "source": []
  }
 ],
 "metadata": {
  "kernelspec": {
   "display_name": "Python 3",
   "language": "python",
   "name": "python3"
  },
  "language_info": {
   "codemirror_mode": {
    "name": "ipython",
    "version": 3
   },
   "file_extension": ".py",
   "mimetype": "text/x-python",
   "name": "python",
   "nbconvert_exporter": "python",
   "pygments_lexer": "ipython3",
   "version": "3.7.6"
  }
 },
 "nbformat": 4,
 "nbformat_minor": 4
}
