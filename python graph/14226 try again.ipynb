{
 "cells": [
  {
   "cell_type": "code",
   "execution_count": 28,
   "metadata": {},
   "outputs": [],
   "source": [
    "from collections import deque\n",
    "def BFS():\n",
    "    q=deque()\n",
    "    q.append((1,0))\n",
    "    while q:\n",
    "        i,j=q.popleft()\n",
    "        if i==s//2:\n",
    "            print(dist[i][j])\n",
    "            return\n",
    "        for di,dj in (i,i), (i+j,j), (i-1,j):\n",
    "            if di<0 or di>s:\n",
    "                continue\n",
    "            if not dist[di][dj]:\n",
    "                q.append((di,dj))\n",
    "                dist[di][dj]=dist[i][j]+1"
   ]
  },
  {
   "cell_type": "code",
   "execution_count": 31,
   "metadata": {},
   "outputs": [
    {
     "name": "stdout",
     "output_type": "stream",
     "text": [
      "18\n"
     ]
    }
   ],
   "source": [
    "s=int(input())*2\n",
    "dist=[[0]*s for _ in range(s)]"
   ]
  },
  {
   "cell_type": "code",
   "execution_count": 32,
   "metadata": {},
   "outputs": [
    {
     "name": "stdout",
     "output_type": "stream",
     "text": [
      "8\n"
     ]
    }
   ],
   "source": [
    "BFS()"
   ]
  }
 ],
 "metadata": {
  "kernelspec": {
   "display_name": "Python 3",
   "language": "python",
   "name": "python3"
  },
  "language_info": {
   "codemirror_mode": {
    "name": "ipython",
    "version": 3
   },
   "file_extension": ".py",
   "mimetype": "text/x-python",
   "name": "python",
   "nbconvert_exporter": "python",
   "pygments_lexer": "ipython3",
   "version": "3.7.6"
  }
 },
 "nbformat": 4,
 "nbformat_minor": 4
}
