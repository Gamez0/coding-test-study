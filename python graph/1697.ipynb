{
 "cells": [
  {
   "cell_type": "code",
   "execution_count": 28,
   "metadata": {},
   "outputs": [],
   "source": [
    "from collections import deque\n",
    "from sys import stdin"
   ]
  },
  {
   "cell_type": "code",
   "execution_count": 38,
   "metadata": {},
   "outputs": [],
   "source": [
    "def bfs(start,end):\n",
    "    visited=[False]*100001\n",
    "    queue = deque([start])\n",
    "    state = False\n",
    "    cnt = 0\n",
    "    while True:\n",
    "        for _ in range(len(queue)):\n",
    "            node = queue.popleft()\n",
    "            if node==end:\n",
    "                state = True\n",
    "                break\n",
    "            if not visited[node]:\n",
    "                visited[node]=True\n",
    "                if node-1>=0:\n",
    "                    queue.append(node-1)\n",
    "                if node+1<=100000:\n",
    "                    queue.append(node+1)\n",
    "                if node*2<=100000:\n",
    "                    queue.append(node*2)\n",
    "        if state:\n",
    "            break\n",
    "        cnt+=1\n",
    "    return cnt"
   ]
  },
  {
   "cell_type": "code",
   "execution_count": 6,
   "metadata": {},
   "outputs": [
    {
     "name": "stdout",
     "output_type": "stream",
     "text": [
      "5 17\n"
     ]
    }
   ],
   "source": [
    "n,k = map(int,stdin.readline().split())"
   ]
  },
  {
   "cell_type": "code",
   "execution_count": 39,
   "metadata": {},
   "outputs": [
    {
     "name": "stdout",
     "output_type": "stream",
     "text": [
      "4\n"
     ]
    }
   ],
   "source": [
    "print(bfs(n,k))"
   ]
  },
  {
   "cell_type": "code",
   "execution_count": null,
   "metadata": {},
   "outputs": [],
   "source": []
  }
 ],
 "metadata": {
  "kernelspec": {
   "display_name": "Python 3",
   "language": "python",
   "name": "python3"
  },
  "language_info": {
   "codemirror_mode": {
    "name": "ipython",
    "version": 3
   },
   "file_extension": ".py",
   "mimetype": "text/x-python",
   "name": "python",
   "nbconvert_exporter": "python",
   "pygments_lexer": "ipython3",
   "version": "3.7.6"
  }
 },
 "nbformat": 4,
 "nbformat_minor": 4
}
