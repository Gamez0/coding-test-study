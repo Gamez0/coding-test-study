{
 "cells": [
  {
   "cell_type": "code",
   "execution_count": 2,
   "metadata": {},
   "outputs": [],
   "source": [
    "from collections import deque"
   ]
  },
  {
   "cell_type": "code",
   "execution_count": 19,
   "metadata": {},
   "outputs": [],
   "source": [
    "di=[1,2,2,1,-1,-2,-2,-1]\n",
    "dj=[-2,-1,1,2,2,1,-1,-2]\n",
    "def BFS(v):\n",
    "    queue = deque()\n",
    "    queue.append(v)\n",
    "    while queue:\n",
    "        v=queue.popleft()\n",
    "        if v[0]==ei and v[1]==ej:\n",
    "            print(g[ei][ej])\n",
    "            return\n",
    "        for k in range(8):\n",
    "            i=v[0]+di[k]\n",
    "            j=v[1]+dj[k]\n",
    "            if 0<=i<n and 0<=j<n and g[i][j]==0:\n",
    "                queue.append([i,j])\n",
    "                g[i][j]=g[v[0]][v[1]]+1\n",
    "                "
   ]
  },
  {
   "cell_type": "code",
   "execution_count": 21,
   "metadata": {},
   "outputs": [
    {
     "name": "stdout",
     "output_type": "stream",
     "text": [
      "3\n",
      "8\n",
      "0 0\n",
      "7 0\n",
      "5\n",
      "100\n",
      "0 0\n",
      "30 50\n",
      "28\n",
      "10\n",
      "1 1\n",
      "1 1\n",
      "0\n"
     ]
    }
   ],
   "source": [
    "for _ in range(int(input())):\n",
    "    n=int(input())\n",
    "    g=[[0]*n for _ in range(n)]\n",
    "    si,sj=map(int,input().split())\n",
    "    ei,ej=map(int,input().split())\n",
    "    BFS([si,sj])"
   ]
  },
  {
   "cell_type": "code",
   "execution_count": null,
   "metadata": {},
   "outputs": [],
   "source": []
  }
 ],
 "metadata": {
  "kernelspec": {
   "display_name": "Python 3",
   "language": "python",
   "name": "python3"
  },
  "language_info": {
   "codemirror_mode": {
    "name": "ipython",
    "version": 3
   },
   "file_extension": ".py",
   "mimetype": "text/x-python",
   "name": "python",
   "nbconvert_exporter": "python",
   "pygments_lexer": "ipython3",
   "version": "3.7.6"
  }
 },
 "nbformat": 4,
 "nbformat_minor": 4
}
