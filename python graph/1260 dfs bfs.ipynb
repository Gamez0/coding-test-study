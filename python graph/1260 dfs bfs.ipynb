{
 "cells": [
  {
   "cell_type": "code",
   "execution_count": null,
   "metadata": {},
   "outputs": [],
   "source": [
    "### DFS와 BFS\n",
    "from collections import deque\n",
    "from sys import stdin\n",
    "\n",
    "def DFS(graph,start):\n",
    "    visited=[]\n",
    "    stack=[start]\n",
    "    \n",
    "    while stack:\n",
    "        node = stack.pop()\n",
    "        if node not in visited:\n",
    "            visited.append(node)\n",
    "            stack.extend(sorted(graph[node],reverse=True))#LIFO, 역정렬, 작은 수가 먼저 나옴\n",
    "    return visited\n",
    "def BFS(graph,start):\n",
    "    visited = []\n",
    "    queue = deque([start])\n",
    "    while queue:\n",
    "        node = queue.popleft()\n",
    "        if node not in visited:\n",
    "            visited.append(node)\n",
    "            queue.extend(sorted(graph[node]))\n",
    "    return visited"
   ]
  },
  {
   "cell_type": "code",
   "execution_count": 11,
   "metadata": {},
   "outputs": [
    {
     "name": "stdout",
     "output_type": "stream",
     "text": [
      "1000 1 1000\n",
      "999 1000\n",
      "1000 999\n",
      "1000 999\n"
     ]
    }
   ],
   "source": [
    "n,m,v = map(int,stdin.readline().split())\n",
    "graph = [set([]) for _ in range(n+1)]\n",
    "\n",
    "for i in range(m):\n",
    "    a,b = map(int,stdin.readline().split())\n",
    "    graph[a].add(b)\n",
    "    graph[b].add(a)\n",
    "\n",
    "print(*DFS(graph,v))\n",
    "print(*BFS(graph,v))"
   ]
  },
  {
   "cell_type": "code",
   "execution_count": 6,
   "metadata": {},
   "outputs": [
    {
     "name": "stdout",
     "output_type": "stream",
     "text": [
      "1 2 4 3\n"
     ]
    }
   ],
   "source": [
    "print(*DFS(graph,v))"
   ]
  },
  {
   "cell_type": "code",
   "execution_count": 8,
   "metadata": {},
   "outputs": [
    {
     "name": "stdout",
     "output_type": "stream",
     "text": [
      "set() {2, 3, 4} {1, 4} {1, 4} {1, 2, 3}\n"
     ]
    }
   ],
   "source": [
    "print(*graph)"
   ]
  },
  {
   "cell_type": "code",
   "execution_count": null,
   "metadata": {},
   "outputs": [],
   "source": []
  }
 ],
 "metadata": {
  "kernelspec": {
   "display_name": "Python 3",
   "language": "python",
   "name": "python3"
  },
  "language_info": {
   "codemirror_mode": {
    "name": "ipython",
    "version": 3
   },
   "file_extension": ".py",
   "mimetype": "text/x-python",
   "name": "python",
   "nbconvert_exporter": "python",
   "pygments_lexer": "ipython3",
   "version": "3.7.6"
  }
 },
 "nbformat": 4,
 "nbformat_minor": 4
}
