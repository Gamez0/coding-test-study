{
 "cells": [
  {
   "cell_type": "code",
   "execution_count": 3,
   "metadata": {},
   "outputs": [],
   "source": [
    "import sys\n",
    "sys.setrecursionlimit(1000000)\n",
    "input=sys.stdin.readline"
   ]
  },
  {
   "cell_type": "code",
   "execution_count": null,
   "metadata": {},
   "outputs": [],
   "source": [
    "def DFS(now, group, graph, check):\n",
    "    check[now]=group\n",
    "    for i in graph[now]:\n",
    "        if check[i]==0:\n",
    "            if DFS(i,-group,graph,check) is False:\n",
    "                return False\n",
    "        elif check[i]==group:\n",
    "            return False                \n",
    "    return True"
   ]
  },
  {
   "cell_type": "code",
   "execution_count": 5,
   "metadata": {},
   "outputs": [
    {
     "name": "stdout",
     "output_type": "stream",
     "text": [
      "2\n",
      "3 2\n",
      "1 3\n",
      "2 3\n",
      "YES\n",
      "4 4\n",
      "1 2\n",
      "2 3\n",
      "3 4\n",
      "4 2\n",
      "NO\n"
     ]
    }
   ],
   "source": [
    "for _ in range(int(input())):\n",
    "    v,e=map(int,input().split())\n",
    "    graph=[set([]) for _ in range(v+1)]\n",
    "    check=[0]*(v+1)\n",
    "    for _ in range(e):\n",
    "        a,b=map(int,input().split())\n",
    "        graph[a].add(b)\n",
    "        graph[b].add(a)\n",
    "    ans=True\n",
    "    for i in range(1,v+1):\n",
    "        if check[i]==0:\n",
    "            if DFS(i,1,graph,check) is False:\n",
    "                ans=False\n",
    "                break\n",
    "    print(\"YES\" if ans else \"NO\")"
   ]
  },
  {
   "cell_type": "code",
   "execution_count": null,
   "metadata": {},
   "outputs": [],
   "source": []
  }
 ],
 "metadata": {
  "kernelspec": {
   "display_name": "Python 3",
   "language": "python",
   "name": "python3"
  },
  "language_info": {
   "codemirror_mode": {
    "name": "ipython",
    "version": 3
   },
   "file_extension": ".py",
   "mimetype": "text/x-python",
   "name": "python",
   "nbconvert_exporter": "python",
   "pygments_lexer": "ipython3",
   "version": "3.7.6"
  }
 },
 "nbformat": 4,
 "nbformat_minor": 4
}
