{
 "cells": [
  {
   "cell_type": "code",
   "execution_count": 8,
   "metadata": {
    "scrolled": false
   },
   "outputs": [
    {
     "name": "stdout",
     "output_type": "stream",
     "text": [
      "1\n",
      "-100\n"
     ]
    }
   ],
   "source": [
    "n = int(input())\n",
    "p = [0]+list(map(int,input().split()))\n",
    "d=[0 for _ in range(n+1)]\n",
    "dr=[0 for _ in range(n+1)]\n",
    "d[1]=p[1]\n",
    "dr[n]=p[n]"
   ]
  },
  {
   "cell_type": "code",
   "execution_count": 9,
   "metadata": {},
   "outputs": [],
   "source": [
    "for i in range(2,n+1):\n",
    "    d[i]=max(d[i-1]+p[i],p[i])\n",
    "for i in range(n-1,0,-1):\n",
    "    dr[i]=max(dr[i+1]+p[i],p[i])"
   ]
  },
  {
   "cell_type": "code",
   "execution_count": 10,
   "metadata": {},
   "outputs": [],
   "source": [
    "removed_d=[0 for _ in range(n+1)]\n",
    "for i in range(1,n+1):\n",
    "    if i==1 or i==n:\n",
    "        removed_d[i]=p[i]\n",
    "        continue\n",
    "    removed_d[i]=d[i-1]+dr[i+1]"
   ]
  },
  {
   "cell_type": "code",
   "execution_count": 15,
   "metadata": {},
   "outputs": [
    {
     "name": "stdout",
     "output_type": "stream",
     "text": [
      "-100\n"
     ]
    }
   ],
   "source": [
    "print(max(max(removed_d[1:]),max(d[1:])))"
   ]
  }
 ],
 "metadata": {
  "kernelspec": {
   "display_name": "Python 3",
   "language": "python",
   "name": "python3"
  },
  "language_info": {
   "codemirror_mode": {
    "name": "ipython",
    "version": 3
   },
   "file_extension": ".py",
   "mimetype": "text/x-python",
   "name": "python",
   "nbconvert_exporter": "python",
   "pygments_lexer": "ipython3",
   "version": "3.7.6"
  }
 },
 "nbformat": 4,
 "nbformat_minor": 4
}
