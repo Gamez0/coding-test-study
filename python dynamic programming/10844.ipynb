{
 "cells": [
  {
   "cell_type": "code",
   "execution_count": 1,
   "metadata": {},
   "outputs": [],
   "source": [
    "MOD=1000000000\n",
    "d=[[0]*10 for _ in range(101)]\n",
    "d[0] = [0,1,1,1,1,1,1,1,1,1]"
   ]
  },
  {
   "cell_type": "code",
   "execution_count": 2,
   "metadata": {},
   "outputs": [
    {
     "name": "stdout",
     "output_type": "stream",
     "text": [
      "1\n"
     ]
    }
   ],
   "source": [
    "n=int(input())"
   ]
  },
  {
   "cell_type": "code",
   "execution_count": 3,
   "metadata": {},
   "outputs": [],
   "source": [
    "for i in range(1,n+1):\n",
    "    d[i][0] = d[i-1][1]%MOD\n",
    "    d[i][1] = d[i-1][0]+d[i-1][2]%MOD\n",
    "    d[i][2] = d[i-1][1]+d[i-1][3]%MOD\n",
    "    d[i][3] = d[i-1][2]+d[i-1][4]%MOD\n",
    "    d[i][4] = d[i-1][3]+d[i-1][5]%MOD\n",
    "    d[i][5] = d[i-1][4]+d[i-1][6]%MOD\n",
    "    d[i][6] = d[i-1][5]+d[i-1][7]%MOD\n",
    "    d[i][7] = d[i-1][6]+d[i-1][8]%MOD\n",
    "    d[i][8] = d[i-1][7]+d[i-1][9]%MOD\n",
    "    d[i][9] = d[i-1][8]%MOD"
   ]
  },
  {
   "cell_type": "code",
   "execution_count": 6,
   "metadata": {},
   "outputs": [
    {
     "name": "stdout",
     "output_type": "stream",
     "text": [
      "9\n"
     ]
    }
   ],
   "source": [
    "print(sum(d[n-1])%MOD)"
   ]
  },
  {
   "cell_type": "code",
   "execution_count": null,
   "metadata": {},
   "outputs": [],
   "source": []
  }
 ],
 "metadata": {
  "kernelspec": {
   "display_name": "Python 3",
   "language": "python",
   "name": "python3"
  },
  "language_info": {
   "codemirror_mode": {
    "name": "ipython",
    "version": 3
   },
   "file_extension": ".py",
   "mimetype": "text/x-python",
   "name": "python",
   "nbconvert_exporter": "python",
   "pygments_lexer": "ipython3",
   "version": "3.7.6"
  }
 },
 "nbformat": 4,
 "nbformat_minor": 4
}
