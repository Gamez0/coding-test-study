{
 "cells": [
  {
   "cell_type": "code",
   "execution_count": 14,
   "metadata": {},
   "outputs": [],
   "source": [
    "MAX = 100001\n",
    "MOD = 1000000009"
   ]
  },
  {
   "cell_type": "code",
   "execution_count": 15,
   "metadata": {},
   "outputs": [],
   "source": [
    "d = [[0]*4 for _ in range(MAX+1)]\n",
    "d[0] = [0,0,0,0]\n",
    "d[1] = [0,1,0,0]\n",
    "d[2] = [0,0,1,0]\n",
    "d[3] = [0,1,1,1]"
   ]
  },
  {
   "cell_type": "code",
   "execution_count": 16,
   "metadata": {},
   "outputs": [],
   "source": [
    "for i in range(4,MAX+1):\n",
    "    d[i][1] = (d[i-1][2]+d[i-1][3])%MOD\n",
    "    d[i][2] = (d[i-2][1]+d[i-2][3])%MOD\n",
    "    d[i][3] = (d[i-3][1]+d[i-3][2])%MOD"
   ]
  },
  {
   "cell_type": "code",
   "execution_count": 13,
   "metadata": {},
   "outputs": [
    {
     "name": "stdout",
     "output_type": "stream",
     "text": [
      "3\n",
      "4\n",
      "3\n",
      "7\n",
      "9\n",
      "10\n",
      "14\n"
     ]
    }
   ],
   "source": [
    "for i in range(int(input())):\n",
    "    n = int(input())\n",
    "    print(sum(d[n])%MOD)"
   ]
  },
  {
   "cell_type": "code",
   "execution_count": null,
   "metadata": {},
   "outputs": [],
   "source": []
  }
 ],
 "metadata": {
  "kernelspec": {
   "display_name": "Python 3",
   "language": "python",
   "name": "python3"
  },
  "language_info": {
   "codemirror_mode": {
    "name": "ipython",
    "version": 3
   },
   "file_extension": ".py",
   "mimetype": "text/x-python",
   "name": "python",
   "nbconvert_exporter": "python",
   "pygments_lexer": "ipython3",
   "version": "3.7.6"
  }
 },
 "nbformat": 4,
 "nbformat_minor": 4
}
