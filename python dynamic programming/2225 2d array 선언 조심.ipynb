{
 "cells": [
  {
   "cell_type": "code",
   "execution_count": 252,
   "metadata": {},
   "outputs": [
    {
     "name": "stdout",
     "output_type": "stream",
     "text": [
      "20 2\n"
     ]
    }
   ],
   "source": [
    "n, k = map(int,input().split())\n",
    "d = [[0]*(k+1) for i in range(n+1)]"
   ]
  },
  {
   "cell_type": "code",
   "execution_count": 253,
   "metadata": {},
   "outputs": [],
   "source": [
    "for i in range(n+1):\n",
    "    d[i][1]=1"
   ]
  },
  {
   "cell_type": "code",
   "execution_count": 255,
   "metadata": {},
   "outputs": [],
   "source": [
    "for i in range(1,k+1):\n",
    "    for j in range(n+1):\n",
    "        #d[i][j] = sum of d[i-1][0~j]\n",
    "        for l in range(j+1):\n",
    "            d[j][i]+=d[l][i-1]"
   ]
  },
  {
   "cell_type": "code",
   "execution_count": 256,
   "metadata": {},
   "outputs": [
    {
     "name": "stdout",
     "output_type": "stream",
     "text": [
      "21\n"
     ]
    }
   ],
   "source": [
    "print((d[n][k]) % 1000000000)"
   ]
  },
  {
   "cell_type": "code",
   "execution_count": 296,
   "metadata": {},
   "outputs": [
    {
     "name": "stdout",
     "output_type": "stream",
     "text": [
      "4 3\n",
      "15\n"
     ]
    }
   ],
   "source": [
    "n,k = map(int,input().split())\n",
    "d = [[0]*(n+1) for i in range(k+1)]\n",
    "for i in range(n+1):\n",
    "    d[1][i]=1\n",
    "for i in range(1,k+1):\n",
    "    for j in range(0,n+1):\n",
    "        for l in range(0,j+1):\n",
    "            d[i][j] += d[i-1][l]\n",
    "print(d[k][n]%1000000000)            "
   ]
  },
  {
   "cell_type": "code",
   "execution_count": 293,
   "metadata": {},
   "outputs": [
    {
     "data": {
      "text/plain": [
       "[[0, 0, 0, 0, 0], [1, 1, 1, 1, 1], [1, 2, 3, 4, 5], [1, 3, 6, 10, 15]]"
      ]
     },
     "execution_count": 293,
     "metadata": {},
     "output_type": "execute_result"
    }
   ],
   "source": [
    "d"
   ]
  },
  {
   "cell_type": "code",
   "execution_count": 301,
   "metadata": {},
   "outputs": [
    {
     "name": "stdout",
     "output_type": "stream",
     "text": [
      "4 3\n",
      "5\n"
     ]
    }
   ],
   "source": [
    "n, k = map(int,input().split())\n",
    "# d = [[1]*(n+1)] + [[0]*(n+1)]*(k-1)\n",
    "d = [[0] *(n+1) for i in range(k+1)]\n",
    "for i in range(n+1):\n",
    "    d[1][i]=1\n",
    "for i in range(1,k+1):\n",
    "    for j in range(0,n+1):\n",
    "        for l in range(0,j+1):\n",
    "            d[i][j]+=d[i-1][l]\n",
    "print((d[k-1][n]) % 1000000000)            "
   ]
  },
  {
   "cell_type": "code",
   "execution_count": 295,
   "metadata": {},
   "outputs": [
    {
     "data": {
      "text/plain": [
       "[[1, 1, 1, 1, 1], [2, 8, 26, 80, 242], [2, 8, 26, 80, 242]]"
      ]
     },
     "execution_count": 295,
     "metadata": {},
     "output_type": "execute_result"
    }
   ],
   "source": [
    "d"
   ]
  },
  {
   "cell_type": "code",
   "execution_count": null,
   "metadata": {},
   "outputs": [],
   "source": []
  }
 ],
 "metadata": {
  "kernelspec": {
   "display_name": "Python 3",
   "language": "python",
   "name": "python3"
  },
  "language_info": {
   "codemirror_mode": {
    "name": "ipython",
    "version": 3
   },
   "file_extension": ".py",
   "mimetype": "text/x-python",
   "name": "python",
   "nbconvert_exporter": "python",
   "pygments_lexer": "ipython3",
   "version": "3.7.6"
  }
 },
 "nbformat": 4,
 "nbformat_minor": 4
}
