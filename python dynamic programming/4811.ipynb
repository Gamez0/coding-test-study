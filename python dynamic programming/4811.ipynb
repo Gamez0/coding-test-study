{
 "cells": [
  {
   "cell_type": "code",
   "execution_count": 21,
   "metadata": {},
   "outputs": [
    {
     "name": "stdout",
     "output_type": "stream",
     "text": [
      "6\n",
      "132\n",
      "[12, 11, 10, 9, 8, 7]\n",
      "[1, 2, 3, 4, 5, 6, 7]\n",
      "0\n"
     ]
    }
   ],
   "source": [
    "while True:\n",
    "    n=int(input())\n",
    "    if n==0:\n",
    "        break\n",
    "    r=1\n",
    "    for n in range(2*n,n,-1):\n",
    "        r*=n\n",
    "    for n in range(1,n+1):\n",
    "        r//=n\n",
    "    print(r)"
   ]
  },
  {
   "cell_type": "code",
   "execution_count": null,
   "metadata": {},
   "outputs": [],
   "source": []
  }
 ],
 "metadata": {
  "kernelspec": {
   "display_name": "Python 3",
   "language": "python",
   "name": "python3"
  },
  "language_info": {
   "codemirror_mode": {
    "name": "ipython",
    "version": 3
   },
   "file_extension": ".py",
   "mimetype": "text/x-python",
   "name": "python",
   "nbconvert_exporter": "python",
   "pygments_lexer": "ipython3",
   "version": "3.7.6"
  }
 },
 "nbformat": 4,
 "nbformat_minor": 4
}
