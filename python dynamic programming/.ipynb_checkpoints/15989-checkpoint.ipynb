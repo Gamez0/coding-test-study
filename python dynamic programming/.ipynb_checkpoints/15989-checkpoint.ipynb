{
 "cells": [
  {
   "cell_type": "code",
   "execution_count": 16,
   "metadata": {},
   "outputs": [
    {
     "name": "stdout",
     "output_type": "stream",
     "text": [
      "3\n",
      "4\n",
      "7\n",
      "10\n"
     ]
    }
   ],
   "source": [
    "num_list = []\n",
    "for i in range(int(input())):\n",
    "    num_list.append(int(input()))\n",
    "d = [[0 for col in range(4)]for row in range(10001)]\n",
    "d[1][1], d[2][1],d[2][2],d[3][1],d[3][3]=1,1,1,2,1    \n",
    "for i in range(4,max(num_list)+1):\n",
    "    d[i][1]=d[i-1][1]+d[i-1][2]+d[i-1][3]\n",
    "    d[i][2]=d[i-2][2]+d[i-2][3]\n",
    "    d[i][3]=d[i-3][3]\n",
    "for i in range(len(num_list)):\n",
    "    k=num_list[i]\n",
    "    print(d[k][1]+d[k][2]+d[k][3])    "
   ]
  },
  {
   "cell_type": "code",
   "execution_count": 18,
   "metadata": {},
   "outputs": [],
   "source": []
  },
  {
   "cell_type": "code",
   "execution_count": 19,
   "metadata": {},
   "outputs": [],
   "source": []
  },
  {
   "cell_type": "code",
   "execution_count": 20,
   "metadata": {},
   "outputs": [
    {
     "name": "stdout",
     "output_type": "stream",
     "text": [
      "4\n",
      "8\n",
      "14\n"
     ]
    }
   ],
   "source": []
  },
  {
   "cell_type": "code",
   "execution_count": null,
   "metadata": {},
   "outputs": [],
   "source": []
  }
 ],
 "metadata": {
  "kernelspec": {
   "display_name": "Python 3",
   "language": "python",
   "name": "python3"
  },
  "language_info": {
   "codemirror_mode": {
    "name": "ipython",
    "version": 3
   },
   "file_extension": ".py",
   "mimetype": "text/x-python",
   "name": "python",
   "nbconvert_exporter": "python",
   "pygments_lexer": "ipython3",
   "version": "3.7.6"
  }
 },
 "nbformat": 4,
 "nbformat_minor": 4
}
