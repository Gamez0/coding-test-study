{
 "cells": [
  {
   "cell_type": "code",
   "execution_count": 6,
   "metadata": {},
   "outputs": [
    {
     "name": "stdout",
     "output_type": "stream",
     "text": [
      "10\n",
      "1 5 2 1 4 3 4 5 2 1\n"
     ]
    }
   ],
   "source": [
    "n = int(input())\n",
    "p = list(map(int,input().split()))\n",
    "d1=[0]*n\n",
    "d2=[0]*n"
   ]
  },
  {
   "cell_type": "code",
   "execution_count": 7,
   "metadata": {},
   "outputs": [],
   "source": [
    "for i in  range(n):\n",
    "    for j in range(i):\n",
    "        if p[i]>p[j] and d1[i]<d1[j]:\n",
    "            d1[i]=d1[j]\n",
    "    d1[i]+=1"
   ]
  },
  {
   "cell_type": "code",
   "execution_count": 8,
   "metadata": {},
   "outputs": [],
   "source": [
    "for i in  range(n-1,-1,-1):\n",
    "    for j in range(n-1,i,-1):\n",
    "        if p[i]>p[j] and d2[i]<d2[j]:\n",
    "            d2[i]=d2[j]\n",
    "    d2[i]+=1"
   ]
  },
  {
   "cell_type": "code",
   "execution_count": 9,
   "metadata": {},
   "outputs": [
    {
     "name": "stdout",
     "output_type": "stream",
     "text": [
      "7\n"
     ]
    }
   ],
   "source": [
    "for i in range(n):\n",
    "    d1[i]+=d2[i]-1\n",
    "print(max(d1))"
   ]
  },
  {
   "cell_type": "code",
   "execution_count": null,
   "metadata": {},
   "outputs": [],
   "source": []
  }
 ],
 "metadata": {
  "kernelspec": {
   "display_name": "Python 3",
   "language": "python",
   "name": "python3"
  },
  "language_info": {
   "codemirror_mode": {
    "name": "ipython",
    "version": 3
   },
   "file_extension": ".py",
   "mimetype": "text/x-python",
   "name": "python",
   "nbconvert_exporter": "python",
   "pygments_lexer": "ipython3",
   "version": "3.7.6"
  }
 },
 "nbformat": 4,
 "nbformat_minor": 4
}
