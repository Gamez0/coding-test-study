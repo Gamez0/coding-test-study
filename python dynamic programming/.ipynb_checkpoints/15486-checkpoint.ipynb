{
 "cells": [
  {
   "cell_type": "code",
   "execution_count": 65,
   "metadata": {
    "scrolled": true
   },
   "outputs": [
    {
     "name": "stdout",
     "output_type": "stream",
     "text": [
      "10\n",
      "1 1\n",
      "1 2\n",
      "1 3\n",
      "1 4\n",
      "1 5\n",
      "1 6\n",
      "1 7\n",
      "1 8\n",
      "1 9\n",
      "1 10\n"
     ]
    }
   ],
   "source": [
    "from sys import stdin\n",
    "input=stdin.readline\n",
    "n=int(input())\n",
    "t=[]\n",
    "p=[]\n",
    "for _ in range(n):\n",
    "    a,b=map(int,input().split())\n",
    "    t.append(a);p.append(b)"
   ]
  },
  {
   "cell_type": "code",
   "execution_count": 67,
   "metadata": {},
   "outputs": [],
   "source": [
    "dp=[0]*(n+1)\n",
    "ans=0\n",
    "for i in range(n):\n",
    "    ans=max(ans,dp[i])\n",
    "    if i+t[i]>n:\n",
    "        continue\n",
    "    dp[i+t[i]]=max(ans+p[i],dp[i+t[i]])"
   ]
  },
  {
   "cell_type": "code",
   "execution_count": 68,
   "metadata": {},
   "outputs": [
    {
     "name": "stdout",
     "output_type": "stream",
     "text": [
      "55\n"
     ]
    }
   ],
   "source": [
    "print(max(dp))"
   ]
  }
 ],
 "metadata": {
  "kernelspec": {
   "display_name": "Python 3",
   "language": "python",
   "name": "python3"
  },
  "language_info": {
   "codemirror_mode": {
    "name": "ipython",
    "version": 3
   },
   "file_extension": ".py",
   "mimetype": "text/x-python",
   "name": "python",
   "nbconvert_exporter": "python",
   "pygments_lexer": "ipython3",
   "version": "3.7.6"
  }
 },
 "nbformat": 4,
 "nbformat_minor": 4
}
