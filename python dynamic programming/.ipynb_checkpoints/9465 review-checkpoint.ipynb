{
 "cells": [
  {
   "cell_type": "code",
   "execution_count": 9,
   "metadata": {},
   "outputs": [
    {
     "name": "stdout",
     "output_type": "stream",
     "text": [
      "2\n",
      "n 입력\n",
      "5\n",
      "50 10 100 20 40\n",
      "30 50 70 10 60\n",
      "260\n",
      "n 입력\n",
      "7\n",
      "10 30 10 50 100 20 40\n",
      "20 40 30 50 60 20 80\n",
      "290\n"
     ]
    }
   ],
   "source": [
    "from sys import stdin\n",
    "input=stdin.readline\n",
    "for _ in range(int(input())):\n",
    "    n=int(input())\n",
    "    p=[[0] + list(map(int,input().split())) for _ in range(2)]\n",
    "    d=[[0] * (n+1) for _ in range(3)]\n",
    "    d[0][1]=p[0][1]\n",
    "    d[1][1]=p[1][1]\n",
    "    for i in range(2,n+1):\n",
    "        d[0][i]=max(d[1][i-1],d[2][i-1])+p[0][i]\n",
    "        d[1][i]=max(d[0][i-1],d[2][i-1])+p[1][i]\n",
    "        d[2][i]=max(d[0][i-1],d[1][i-1],d[2][i-1])\n",
    "    print(max(d[0][n],d[1][n],d[2][n]))"
   ]
  },
  {
   "cell_type": "code",
   "execution_count": null,
   "metadata": {},
   "outputs": [],
   "source": []
  }
 ],
 "metadata": {
  "kernelspec": {
   "display_name": "Python 3",
   "language": "python",
   "name": "python3"
  },
  "language_info": {
   "codemirror_mode": {
    "name": "ipython",
    "version": 3
   },
   "file_extension": ".py",
   "mimetype": "text/x-python",
   "name": "python",
   "nbconvert_exporter": "python",
   "pygments_lexer": "ipython3",
   "version": "3.7.6"
  }
 },
 "nbformat": 4,
 "nbformat_minor": 4
}
