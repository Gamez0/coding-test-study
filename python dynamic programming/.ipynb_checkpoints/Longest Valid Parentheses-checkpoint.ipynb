{
 "cells": [
  {
   "cell_type": "code",
   "execution_count": 20,
   "metadata": {},
   "outputs": [],
   "source": [
    "class Solution(object):\n",
    "    def longestValidParentheses(self, s):\n",
    "        ans=0\n",
    "        stack=[-1]\n",
    "        for i in range(len(s)):\n",
    "            if(s[i]=='('):\n",
    "                stack.append(i)\n",
    "            else:\n",
    "                stack.pop()\n",
    "                if(len(stack)==0):\n",
    "                    stack.append(i)\n",
    "                else:\n",
    "                    ans=max(ans,i-stack[-1])\n",
    "        return ans"
   ]
  }
 ],
 "metadata": {
  "kernelspec": {
   "display_name": "Python 3",
   "language": "python",
   "name": "python3"
  },
  "language_info": {
   "codemirror_mode": {
    "name": "ipython",
    "version": 3
   },
   "file_extension": ".py",
   "mimetype": "text/x-python",
   "name": "python",
   "nbconvert_exporter": "python",
   "pygments_lexer": "ipython3",
   "version": "3.7.6"
  }
 },
 "nbformat": 4,
 "nbformat_minor": 4
}
