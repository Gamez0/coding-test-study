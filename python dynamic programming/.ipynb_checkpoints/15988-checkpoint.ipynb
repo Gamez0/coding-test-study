{
 "cells": [
  {
   "cell_type": "code",
   "execution_count": 2,
   "metadata": {},
   "outputs": [],
   "source": [
    "MAX=1000000\n",
    "MOD=1000000009"
   ]
  },
  {
   "cell_type": "code",
   "execution_count": 5,
   "metadata": {},
   "outputs": [],
   "source": [
    "# d=[[0]*4 for i in range(MAX+1)]\n",
    "# d[0]=[0,0,0,0]\n",
    "# d[1]=[0,1,0,0]\n",
    "# d[2]=[0,1,1,0]\n",
    "# d[3]=[0,2,1,1]"
   ]
  },
  {
   "cell_type": "code",
   "execution_count": 11,
   "metadata": {},
   "outputs": [],
   "source": [
    "d = [0]*(MAX+1)\n",
    "d[1]=1\n",
    "d[2]=2\n",
    "d[3]=4"
   ]
  },
  {
   "cell_type": "code",
   "execution_count": 6,
   "metadata": {},
   "outputs": [],
   "source": [
    "# for i in range(4,1000001):\n",
    "#     d[i][1]=sum(d[i-1])%MOD\n",
    "#     d[i][2]=sum(d[i-2])%MOD\n",
    "#     d[i][3]=sum(d[i-3])%MOD"
   ]
  },
  {
   "cell_type": "code",
   "execution_count": 13,
   "metadata": {},
   "outputs": [],
   "source": [
    "for i in range(4,MAX+1):\n",
    "    d[i]=(d[i-1]+d[i-2]+d[i-3])%MOD"
   ]
  },
  {
   "cell_type": "code",
   "execution_count": 15,
   "metadata": {},
   "outputs": [
    {
     "name": "stdout",
     "output_type": "stream",
     "text": [
      "3\n",
      "4\n",
      "7\n",
      "10\n",
      "274\n",
      "13\n",
      "1705\n"
     ]
    }
   ],
   "source": [
    "for i in range(int(input())):\n",
    "    print(d[int(input())]%MOD)"
   ]
  },
  {
   "cell_type": "code",
   "execution_count": null,
   "metadata": {},
   "outputs": [],
   "source": []
  }
 ],
 "metadata": {
  "kernelspec": {
   "display_name": "Python 3",
   "language": "python",
   "name": "python3"
  },
  "language_info": {
   "codemirror_mode": {
    "name": "ipython",
    "version": 3
   },
   "file_extension": ".py",
   "mimetype": "text/x-python",
   "name": "python",
   "nbconvert_exporter": "python",
   "pygments_lexer": "ipython3",
   "version": "3.7.6"
  }
 },
 "nbformat": 4,
 "nbformat_minor": 4
}
