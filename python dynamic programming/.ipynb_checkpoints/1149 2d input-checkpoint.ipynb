{
 "cells": [
  {
   "cell_type": "code",
   "execution_count": 11,
   "metadata": {
    "scrolled": true
   },
   "outputs": [
    {
     "name": "stdout",
     "output_type": "stream",
     "text": [
      "3\n",
      "26 40 83\n",
      "49 60 57\n",
      "13 89 99\n"
     ]
    }
   ],
   "source": [
    "n = int(input())\n",
    "d = [[0]*3 for i in range(n+1)]\n",
    "p = [[0]*3]+[list(map(int,input().split())) for i in range(n)]"
   ]
  },
  {
   "cell_type": "code",
   "execution_count": 12,
   "metadata": {},
   "outputs": [],
   "source": [
    "for i in range(3):\n",
    "    d[1][i] = p[1][i]\n",
    "    \n",
    "for i in range(2,n+1):\n",
    "    d[i][0] = p[i][0]+min(d[i-1][1],d[i-1][2])\n",
    "    d[i][1] = p[i][1]+min(d[i-1][0],d[i-1][2])\n",
    "    d[i][2] = p[i][2]+min(d[i-1][0],d[i-1][1])"
   ]
  },
  {
   "cell_type": "code",
   "execution_count": 16,
   "metadata": {},
   "outputs": [
    {
     "name": "stdout",
     "output_type": "stream",
     "text": [
      "96\n"
     ]
    }
   ],
   "source": [
    "print(min(d[n]))"
   ]
  },
  {
   "cell_type": "code",
   "execution_count": null,
   "metadata": {},
   "outputs": [],
   "source": []
  }
 ],
 "metadata": {
  "kernelspec": {
   "display_name": "Python 3",
   "language": "python",
   "name": "python3"
  },
  "language_info": {
   "codemirror_mode": {
    "name": "ipython",
    "version": 3
   },
   "file_extension": ".py",
   "mimetype": "text/x-python",
   "name": "python",
   "nbconvert_exporter": "python",
   "pygments_lexer": "ipython3",
   "version": "3.7.6"
  }
 },
 "nbformat": 4,
 "nbformat_minor": 4
}
