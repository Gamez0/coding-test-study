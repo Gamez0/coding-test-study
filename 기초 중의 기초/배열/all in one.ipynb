{
 "cells": [
  {
   "cell_type": "code",
   "execution_count": 3,
   "metadata": {},
   "outputs": [
    {
     "name": "stdout",
     "output_type": "stream",
     "text": [
      "5\n",
      "20 10 35 30 7\n",
      "7 35\n"
     ]
    }
   ],
   "source": [
    "#10818\n",
    "from sys import stdin\n",
    "n = int(stdin.readline())\n",
    "num_list = list(map(int, stdin.readline().split()))\n",
    "num_list.sort()\n",
    "print(num_list[0], num_list[n-1])"
   ]
  },
  {
   "cell_type": "code",
   "execution_count": 19,
   "metadata": {},
   "outputs": [
    {
     "ename": "SyntaxError",
     "evalue": "invalid syntax (<ipython-input-19-1f71ff4bb3a5>, line 1)",
     "output_type": "error",
     "traceback": [
      "\u001b[1;36m  File \u001b[1;32m\"<ipython-input-19-1f71ff4bb3a5>\"\u001b[1;36m, line \u001b[1;32m1\u001b[0m\n\u001b[1;33m    num_list = [int(input()) for _ range(9)]\u001b[0m\n\u001b[1;37m                                       ^\u001b[0m\n\u001b[1;31mSyntaxError\u001b[0m\u001b[1;31m:\u001b[0m invalid syntax\n"
     ]
    }
   ],
   "source": [
    "num_list = [int(input()) for _ in range(9)]\n",
    "print(max(num_list))   \n",
    "print(num_list.index(max(num_list))+1)"
   ]
  },
  {
   "cell_type": "code",
   "execution_count": 18,
   "metadata": {},
   "outputs": [
    {
     "name": "stdout",
     "output_type": "stream",
     "text": [
      "85\n",
      "8\n"
     ]
    }
   ],
   "source": [
    "print(max(num_list))\n",
    "print(num_list.index(max(num_list))+1)"
   ]
  },
  {
   "cell_type": "code",
   "execution_count": 27,
   "metadata": {},
   "outputs": [
    {
     "name": "stdout",
     "output_type": "stream",
     "text": [
      "150 266 427\n"
     ]
    }
   ],
   "source": [
    "#2577\n",
    "from sys import stdin\n",
    "a = int(input())\n",
    "b = int(input())\n",
    "c = int(input())\n",
    "num = str(a*b*c)\n",
    "ans = [0]*10\n",
    "for i in range(0,len(num)):\n",
    "    ans[int(num[i])]+=1\n",
    "for i in range(0, 10):\n",
    "    print(ans[i])    "
   ]
  },
  {
   "cell_type": "code",
   "execution_count": 32,
   "metadata": {},
   "outputs": [
    {
     "name": "stdout",
     "output_type": "stream",
     "text": [
      "39\n",
      "40\n",
      "41\n",
      "42\n",
      "43\n",
      "44\n",
      "82\n",
      "83\n",
      "84\n",
      "85\n",
      "6\n"
     ]
    }
   ],
   "source": [
    "#3052\n",
    "cnt = 0\n",
    "ans = [0]*42\n",
    "for i in range(0,10):\n",
    "    n = int(input())\n",
    "    ans[n%42]+=1\n",
    "for i in range(0,42):\n",
    "    if ans[i]!=0:\n",
    "        cnt+=1\n",
    "print(cnt)"
   ]
  },
  {
   "cell_type": "code",
   "execution_count": 51,
   "metadata": {},
   "outputs": [
    {
     "name": "stdout",
     "output_type": "stream",
     "text": [
      "5\n",
      "1 2 4 8 16\n"
     ]
    }
   ],
   "source": [
    "#1546\n",
    "n = int(input())\n",
    "num_list = list(map(int,input().split()))\n",
    "avg=0.0\n",
    "m = max(num_list)\n",
    "for i in range(0,n):\n",
    "    avg += (num_list[i])/m * 100\n",
    "print(avg/n)    "
   ]
  },
  {
   "cell_type": "code",
   "execution_count": 53,
   "metadata": {},
   "outputs": [
    {
     "name": "stdout",
     "output_type": "stream",
     "text": [
      "5\n",
      "OOXXOXXOOO\n",
      "10\n",
      "OOXXOOXXOO\n",
      "9\n",
      "OXOXOXOXOXOXOX\n",
      "7\n",
      "OOOOOOOOOO\n",
      "55\n",
      "OOOOXOOOOXOOOOX\n",
      "30\n"
     ]
    }
   ],
   "source": [
    "#8958\n",
    "for i in range(0,int(input())):\n",
    "    answer = str(input())\n",
    "    score =0\n",
    "    cnt =0\n",
    "    for j in range(0,len(answer)):\n",
    "        if answer[j] == 'O':\n",
    "            cnt+=1\n",
    "        else:\n",
    "            cnt=0\n",
    "        score+=cnt\n",
    "    print(score)"
   ]
  },
  {
   "cell_type": "code",
   "execution_count": 32,
   "metadata": {},
   "outputs": [
    {
     "name": "stdout",
     "output_type": "stream",
     "text": [
      "3\n",
      "3 70 90 80\n",
      "33.333%\n",
      "3 70 90 81\n",
      "66.667%\n",
      "9 100 99 98 97 96 95 94 93 91\n",
      "55.556%\n"
     ]
    }
   ],
   "source": [
    "#4344\n",
    "for _ in range(0, int(input())):\n",
    "    num_list = list(map(int,input().split()))\n",
    "    avg =0\n",
    "    for i in range(1,len(num_list)):\n",
    "        avg+=num_list[i]\n",
    "    avg/=num_list[0]\n",
    "    cnt=0\n",
    "    for i in range(1,len(num_list)):\n",
    "        if num_list[i]>avg:\n",
    "            cnt+=1\n",
    "    print(\"%.3f\" % (100*cnt/num_list[0]),end='%\\n')"
   ]
  },
  {
   "cell_type": "code",
   "execution_count": null,
   "metadata": {},
   "outputs": [],
   "source": []
  }
 ],
 "metadata": {
  "kernelspec": {
   "display_name": "Python 3",
   "language": "python",
   "name": "python3"
  },
  "language_info": {
   "codemirror_mode": {
    "name": "ipython",
    "version": 3
   },
   "file_extension": ".py",
   "mimetype": "text/x-python",
   "name": "python",
   "nbconvert_exporter": "python",
   "pygments_lexer": "ipython3",
   "version": "3.7.6"
  }
 },
 "nbformat": 4,
 "nbformat_minor": 4
}
