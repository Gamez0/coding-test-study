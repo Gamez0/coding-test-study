{
 "cells": [
  {
   "cell_type": "code",
   "execution_count": 197,
   "metadata": {},
   "outputs": [],
   "source": [
    "def isspecial(a):\n",
    "    if a =='-':\n",
    "        return True\n",
    "    if a=='_':\n",
    "        return True\n",
    "    if a=='.':\n",
    "        return True\n",
    "    else:\n",
    "        return False"
   ]
  },
  {
   "cell_type": "code",
   "execution_count": 236,
   "metadata": {},
   "outputs": [],
   "source": [
    "def solution(new_id):\n",
    "    answer=[]\n",
    "    answer2=[]\n",
    "    #1단계\n",
    "    recent = new_id\n",
    "    new_id = new_id.lower()\n",
    "    if recent == new_id:\n",
    "        print(\"1단계 변화 없습니다.\")\n",
    "    else:\n",
    "        print(\"1단계 \",recent,\"→\",new_id)\n",
    "    #     print(\"1단계 \",new_id)\n",
    "    \n",
    "    #2단계\n",
    "    new_id = list(new_id.strip())\n",
    "    recent=new_id\n",
    "    for i in new_id:\n",
    "        if i.isalpha()==False:\n",
    "            if i.isdigit()==False:\n",
    "                if isspecial(i)==False:\n",
    "                    continue\n",
    "        answer.append(i)\n",
    "    if recent == answer:\n",
    "        print(\"2단계 변화 없습니다.\")\n",
    "    else:\n",
    "        print(\"2단계 \",\"\".join(recent),\"→\",\"\".join(answer))\n",
    "#     print(\"2단계\",answer)\n",
    "    \n",
    "    \n",
    "    #3단계 미완성\n",
    "    recent = answer\n",
    "    for i in answer:\n",
    "        cnt = 0\n",
    "        if i=='.':\n",
    "            for j in range(answer.index('.')+1,len(answer)):\n",
    "                if answer[j]=='.':\n",
    "                    cnt+=1\n",
    "                else:\n",
    "                    break\n",
    "            answer = answer[:answer.index('.')]+answer[(answer.index('.')+cnt):]\n",
    "#     print(answer)\n",
    "    answer2=[]\n",
    "    for i in range(len(answer)-1):\n",
    "        if answer[i]=='.' and answer[i+1]=='.':\n",
    "            continue\n",
    "        else:\n",
    "            answer2.append(answer[i])\n",
    "    \n",
    "    if answer[-1]!='.':\n",
    "        answer2.append(answer[-1])\n",
    "    \n",
    "    answer = answer2\n",
    "    if recent == answer:\n",
    "        print(\"3단계 변화 없습니다.\")\n",
    "    else:\n",
    "        print(\"3단계 \",\"\".join(recent),\"→\",\"\".join(answer))\n",
    "#     print(\"3단계\",answer)\n",
    "\n",
    "            \n",
    "    #4단계\n",
    "    recent = answer\n",
    "    if len(answer) != 0:\n",
    "        if answer[0]=='.':\n",
    "            answer=answer[1:]\n",
    "        if answer[-1]=='.':\n",
    "            answer = answer[:-1]    \n",
    "    if recent == answer:\n",
    "        print(\"4단계 변화 없습니다.\")\n",
    "    else:\n",
    "        print(\"4단계 \",\"\".join(recent),\"→\",\"\".join(answer))\n",
    "#     print(\"4단계\",answer)\n",
    "    #5단계\n",
    "    recent = answer\n",
    "    if len(answer)==0:\n",
    "        answer.append('a')\n",
    "    if recent == answer:\n",
    "        print(\"5단계 변화 없습니다.\")\n",
    "    else:\n",
    "        print(\"5단계 \",\"\".join(recent),\"→\",\"\".join(answer))\n",
    "#     print(\"5단계\",answer)\n",
    "    #6단계\n",
    "    recent = answer\n",
    "    if len(answer)>=16:\n",
    "        answer = answer[:15]\n",
    "    if answer[-1]=='.':\n",
    "        answer = answer[:-1]\n",
    "    if recent == answer:\n",
    "        print(\"6단계 변화 없습니다.\")\n",
    "    else:\n",
    "        print(\"6단계 \",\"\".join(recent),\"→\",\"\".join(answer))\n",
    "#     print(\"6단계\",answer)\n",
    "    recent = answer\n",
    "    while len(answer)<=2:\n",
    "        answer.append(answer[-1])\n",
    "    if recent == answer:\n",
    "        print(\"7단계 변화 없습니다.\")\n",
    "    else:\n",
    "        print(\"7단계 \",\"\".join(recent),\"→\",\"\".join(answer))\n",
    "#     print(\"7단계\",answer)\n",
    "    return \"\".join(answer)"
   ]
  },
  {
   "cell_type": "code",
   "execution_count": 237,
   "metadata": {
    "scrolled": true
   },
   "outputs": [
    {
     "name": "stdout",
     "output_type": "stream",
     "text": [
      "123_.def\n",
      "1단계 변화 없습니다.\n",
      "2단계 변화 없습니다.\n",
      "3단계 변화 없습니다.\n",
      "4단계 변화 없습니다.\n",
      "5단계 변화 없습니다.\n",
      "6단계 변화 없습니다.\n",
      "7단계 변화 없습니다.\n"
     ]
    }
   ],
   "source": [
    "# ans = solution(input())"
   ]
  },
  {
   "cell_type": "code",
   "execution_count": 225,
   "metadata": {},
   "outputs": [
    {
     "name": "stdout",
     "output_type": "stream",
     "text": [
      "123_.de"
     ]
    }
   ],
   "source": [
    "# for i in ans:\n",
    "#     print(i,end='')"
   ]
  },
  {
   "cell_type": "code",
   "execution_count": null,
   "metadata": {},
   "outputs": [],
   "source": []
  }
 ],
 "metadata": {
  "kernelspec": {
   "display_name": "Python 3",
   "language": "python",
   "name": "python3"
  },
  "language_info": {
   "codemirror_mode": {
    "name": "ipython",
    "version": 3
   },
   "file_extension": ".py",
   "mimetype": "text/x-python",
   "name": "python",
   "nbconvert_exporter": "python",
   "pygments_lexer": "ipython3",
   "version": "3.7.6"
  }
 },
 "nbformat": 4,
 "nbformat_minor": 4
}
