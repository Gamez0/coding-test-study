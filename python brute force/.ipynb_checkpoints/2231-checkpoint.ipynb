{
 "cells": [
  {
   "cell_type": "code",
   "execution_count": 12,
   "metadata": {},
   "outputs": [
    {
     "name": "stdout",
     "output_type": "stream",
     "text": [
      "1123\n",
      "1115\n"
     ]
    }
   ],
   "source": [
    "def dec(num):\n",
    "    sum = num\n",
    "    while True:\n",
    "        if num<=0:\n",
    "            break\n",
    "        sum += num%10\n",
    "        num = num//10\n",
    "    return sum\n",
    "n = int(input())\n",
    "result = 1000001\n",
    "for i in range(1,n+1):\n",
    "    if n==dec(i):\n",
    "        result=min(result,i)\n",
    "        break\n",
    "if result!=1000001:\n",
    "    print(result)\n",
    "else:\n",
    "    print(0)"
   ]
  },
  {
   "cell_type": "code",
   "execution_count": null,
   "metadata": {},
   "outputs": [],
   "source": []
  }
 ],
 "metadata": {
  "kernelspec": {
   "display_name": "Python 3",
   "language": "python",
   "name": "python3"
  },
  "language_info": {
   "codemirror_mode": {
    "name": "ipython",
    "version": 3
   },
   "file_extension": ".py",
   "mimetype": "text/x-python",
   "name": "python",
   "nbconvert_exporter": "python",
   "pygments_lexer": "ipython3",
   "version": "3.7.6"
  }
 },
 "nbformat": 4,
 "nbformat_minor": 4
}
