{
 "cells": [
  {
   "cell_type": "code",
   "execution_count": 17,
   "metadata": {},
   "outputs": [
    {
     "name": "stdout",
     "output_type": "stream",
     "text": [
      "20\n",
      "7\n",
      "23\n",
      "19\n",
      "10\n",
      "15\n",
      "25\n",
      "8\n",
      "13\n"
     ]
    }
   ],
   "source": [
    "num_list = []\n",
    "for i in range(9):\n",
    "    num_list.append(int(input()))\n",
    "n = sum(num_list) - 100\n",
    "for i in range(9):\n",
    "    for j in range(i+1,len(num_list)):\n",
    "        if n == num_list[i]+num_list[j]:\n",
    "            a,b = num_list[i], num_list[j]\n",
    "            del num_list[num_list.index(a)]\n",
    "            del num_list[num_list.index(b)]\n",
    "            break\n",
    "num_list = sorted(num_list)          \n",
    "for i in range(0,len(num_list)):\n",
    "    print(num_list[i])"
   ]
  },
  {
   "cell_type": "code",
   "execution_count": 18,
   "metadata": {},
   "outputs": [],
   "source": []
  }
 ],
 "metadata": {
  "kernelspec": {
   "display_name": "Python 3",
   "language": "python",
   "name": "python3"
  },
  "language_info": {
   "codemirror_mode": {
    "name": "ipython",
    "version": 3
   },
   "file_extension": ".py",
   "mimetype": "text/x-python",
   "name": "python",
   "nbconvert_exporter": "python",
   "pygments_lexer": "ipython3",
   "version": "3.7.6"
  }
 },
 "nbformat": 4,
 "nbformat_minor": 4
}
