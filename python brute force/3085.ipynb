{
 "cells": [
  {
   "cell_type": "raw",
   "metadata": {},
   "source": [
    "# 들여쓰기 조심하자, witdth와 height에 올바른 매개변수를 입력해야 된다."
   ]
  },
  {
   "cell_type": "code",
   "execution_count": null,
   "metadata": {},
   "outputs": [],
   "source": [
    "ans = 0\n",
    "n = int(input())\n",
    "array=[list(input().strip()) for i in range(n)]"
   ]
  },
  {
   "cell_type": "code",
   "execution_count": 9,
   "metadata": {},
   "outputs": [],
   "source": [
    "def width(x):\n",
    "    global ans\n",
    "    \n",
    "    for i in range(x-1,x+1):\n",
    "        cnt = 1\n",
    "        for j in range(1,n):\n",
    "            if array[i][j]==array[i][j-1]:\n",
    "                cnt+=1\n",
    "            else:\n",
    "                if ans<cnt:\n",
    "                    ans = cnt\n",
    "                cnt=1\n",
    "        if ans<cnt:#여기 들여쓰기 제대로...\n",
    "            ans=cnt"
   ]
  },
  {
   "cell_type": "code",
   "execution_count": 10,
   "metadata": {},
   "outputs": [],
   "source": [
    "def height(y):\n",
    "    global ans\n",
    "    for i in range(y-1,y+1):\n",
    "        cnt = 1\n",
    "        for j in range(1,n):\n",
    "            if array[j][i]==array[j-1][i]:\n",
    "                cnt+=1\n",
    "            else:\n",
    "                if ans<cnt:\n",
    "                    ans = cnt\n",
    "                cnt=1\n",
    "        if ans<cnt:\n",
    "            ans=cnt"
   ]
  },
  {
   "cell_type": "code",
   "execution_count": 11,
   "metadata": {},
   "outputs": [],
   "source": [
    "for i in range(0,n):\n",
    "    for j in range(1,n):\n",
    "        array[i][j],array[i][j-1]=array[i][j-1],array[i][j]\n",
    "        width(i)\n",
    "        height(j)\n",
    "        array[i][j],array[i][j-1]=array[i][j-1],array[i][j]\n",
    "for i in range(0,n):\n",
    "    for j in range(1,n):\n",
    "        array[j][i],array[j-1][i]=array[j-1][i],array[j][i]\n",
    "        width(j)\n",
    "        height(i)\n",
    "        array[j][i],array[j-1][i]=array[j-1][i],array[j][i]"
   ]
  },
  {
   "cell_type": "code",
   "execution_count": 12,
   "metadata": {},
   "outputs": [
    {
     "name": "stdout",
     "output_type": "stream",
     "text": [
      "4\n"
     ]
    }
   ],
   "source": [
    "print(ans)"
   ]
  },
  {
   "cell_type": "code",
   "execution_count": 13,
   "metadata": {},
   "outputs": [
    {
     "name": "stdout",
     "output_type": "stream",
     "text": [
      "4\n",
      "5\n"
     ]
    }
   ],
   "source": [
    "x = 5\n",
    "for i in range(x-1,x+1):\n",
    "    print(i)"
   ]
  },
  {
   "cell_type": "code",
   "execution_count": null,
   "metadata": {},
   "outputs": [],
   "source": []
  }
 ],
 "metadata": {
  "kernelspec": {
   "display_name": "Python 3",
   "language": "python",
   "name": "python3"
  },
  "language_info": {
   "codemirror_mode": {
    "name": "ipython",
    "version": 3
   },
   "file_extension": ".py",
   "mimetype": "text/x-python",
   "name": "python",
   "nbconvert_exporter": "python",
   "pygments_lexer": "ipython3",
   "version": "3.7.6"
  }
 },
 "nbformat": 4,
 "nbformat_minor": 4
}
