{
 "cells": [
  {
   "cell_type": "code",
   "execution_count": 30,
   "metadata": {},
   "outputs": [
    {
     "name": "stdout",
     "output_type": "stream",
     "text": [
      "7\n",
      "3 10\n",
      "5 20\n",
      "1 10\n",
      "1 20\n",
      "2 15\n",
      "4 40\n",
      "2 200\n"
     ]
    }
   ],
   "source": [
    "n = int(input())\n",
    "t = []\n",
    "p = []\n",
    "dp = []\n",
    "for i in range(n):\n",
    "    a,b = map(int,input().split())\n",
    "    t.append(a)\n",
    "    p.append(b)\n",
    "    dp.append(b)    "
   ]
  },
  {
   "cell_type": "code",
   "execution_count": 31,
   "metadata": {},
   "outputs": [
    {
     "name": "stdout",
     "output_type": "stream",
     "text": [
      "45\n"
     ]
    }
   ],
   "source": [
    "dp.append(0)\n",
    "for i in range(n-1,-1,-1):\n",
    "    if t[i]+i>n:\n",
    "        dp[i] = dp[i+1]\n",
    "    else:\n",
    "        dp[i] = max(dp[i+1],p[i]+dp[i+t[i]])\n",
    "print(dp[0])"
   ]
  },
  {
   "cell_type": "code",
   "execution_count": null,
   "metadata": {},
   "outputs": [],
   "source": []
  }
 ],
 "metadata": {
  "kernelspec": {
   "display_name": "Python 3",
   "language": "python",
   "name": "python3"
  },
  "language_info": {
   "codemirror_mode": {
    "name": "ipython",
    "version": 3
   },
   "file_extension": ".py",
   "mimetype": "text/x-python",
   "name": "python",
   "nbconvert_exporter": "python",
   "pygments_lexer": "ipython3",
   "version": "3.7.6"
  }
 },
 "nbformat": 4,
 "nbformat_minor": 4
}
