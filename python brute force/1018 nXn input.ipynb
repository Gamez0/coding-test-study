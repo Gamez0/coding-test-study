{
 "cells": [
  {
   "cell_type": "code",
   "execution_count": 31,
   "metadata": {},
   "outputs": [
    {
     "name": "stdout",
     "output_type": "stream",
     "text": [
      "10 13\n"
     ]
    }
   ],
   "source": [
    "n,m = map(int,input().split())\n",
    "board = []"
   ]
  },
  {
   "cell_type": "code",
   "execution_count": 32,
   "metadata": {},
   "outputs": [
    {
     "name": "stdout",
     "output_type": "stream",
     "text": [
      "BBBBBBBBWBWBW\n",
      "BBBBBBBBBWBWB\n",
      "BBBBBBBBWBWBW\n",
      "BBBBBBBBBWBWB\n",
      "BBBBBBBBWBWBW\n",
      "BBBBBBBBBWBWB\n",
      "BBBBBBBBWBWBW\n",
      "BBBBBBBBBWBWB\n",
      "WWWWWWWWWWBWB\n",
      "WWWWWWWWWWBWB\n"
     ]
    }
   ],
   "source": [
    "for i in range(n):\n",
    "    c = input().strip()\n",
    "    board.append(c)"
   ]
  },
  {
   "cell_type": "code",
   "execution_count": 42,
   "metadata": {},
   "outputs": [
    {
     "name": "stdout",
     "output_type": "stream",
     "text": [
      "8 8\n"
     ]
    }
   ],
   "source": [
    "n,m = map(int,input().split())\n",
    "board2 = []\n",
    "board2 = board"
   ]
  },
  {
   "cell_type": "code",
   "execution_count": 68,
   "metadata": {},
   "outputs": [],
   "source": [
    "board = []"
   ]
  },
  {
   "cell_type": "code",
   "execution_count": 69,
   "metadata": {},
   "outputs": [
    {
     "name": "stdout",
     "output_type": "stream",
     "text": [
      "WBWBWBWB\n",
      "BWBWBWBW\n",
      "WBWBWBWB\n",
      "BWBBBWBW\n",
      "WBWBWBWB\n",
      "BWBWBWBW\n",
      "WBWBWBWB\n",
      "BWBWBWBW\n"
     ]
    }
   ],
   "source": [
    "for i in range(n):\n",
    "    c = input().strip()\n",
    "    board.append(c)"
   ]
  },
  {
   "cell_type": "code",
   "execution_count": 92,
   "metadata": {},
   "outputs": [],
   "source": [
    "def chess(x,y):\n",
    "#     print(x,y)\n",
    "    global board\n",
    "    rule = board[x][y]# B 또는 W\n",
    "    cnt =0\n",
    "    recolor = 0\n",
    "    for i in range(x,x+8):\n",
    "        for j in range(y, y+8):\n",
    "            if cnt%2==0:\n",
    "                if rule!=board[i][j]:\n",
    "                    print(rule, board[i][j], i, j)\n",
    "                    recolor+=1\n",
    "            elif cnt%2==1:\n",
    "                if rule==board[i][j]:\n",
    "#                     print(rule)\n",
    "#                     print(rule, board[i][j])\n",
    "                    recolor+=1\n",
    "            cnt+=1\n",
    "        if rule=='B':\n",
    "            rule='W'\n",
    "        else:\n",
    "            rule='B'\n",
    "    return recolor"
   ]
  },
  {
   "cell_type": "code",
   "execution_count": 93,
   "metadata": {},
   "outputs": [
    {
     "name": "stdout",
     "output_type": "stream",
     "text": [
      "1\n"
     ]
    }
   ],
   "source": [
    "ans = 64\n",
    "for i in range(0,n-7):\n",
    "    for j in range(0,m-7):\n",
    "        ans = min(ans,chess(i,j))\n",
    "print(ans)        "
   ]
  },
  {
   "cell_type": "code",
   "execution_count": 79,
   "metadata": {},
   "outputs": [
    {
     "data": {
      "text/plain": [
       "['WBWBWBWB',\n",
       " 'BWBWBWBW',\n",
       " 'WBWBWBWB',\n",
       " 'BWBBBWBW',\n",
       " 'WBWBWBWB',\n",
       " 'BWBWBWBW',\n",
       " 'WBWBWBWB',\n",
       " 'BWBWBWBW']"
      ]
     },
     "execution_count": 79,
     "metadata": {},
     "output_type": "execute_result"
    }
   ],
   "source": [
    "board"
   ]
  },
  {
   "cell_type": "code",
   "execution_count": null,
   "metadata": {},
   "outputs": [],
   "source": []
  }
 ],
 "metadata": {
  "kernelspec": {
   "display_name": "Python 3",
   "language": "python",
   "name": "python3"
  },
  "language_info": {
   "codemirror_mode": {
    "name": "ipython",
    "version": 3
   },
   "file_extension": ".py",
   "mimetype": "text/x-python",
   "name": "python",
   "nbconvert_exporter": "python",
   "pygments_lexer": "ipython3",
   "version": "3.7.6"
  }
 },
 "nbformat": 4,
 "nbformat_minor": 4
}
