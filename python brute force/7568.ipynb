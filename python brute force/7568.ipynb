{
 "cells": [
  {
   "cell_type": "code",
   "execution_count": 11,
   "metadata": {},
   "outputs": [
    {
     "name": "stdout",
     "output_type": "stream",
     "text": [
      "5\n",
      "55 185\n",
      "58 183\n",
      "88 186\n",
      "60 175\n",
      "46 155\n",
      "2 2 1 2 5 "
     ]
    }
   ],
   "source": [
    "n = int(input())\n",
    "num_list = []\n",
    "ans = []\n",
    "for _ in range(n):\n",
    "    x,y = map(int,input().split())\n",
    "    num_list.append((x,y))\n",
    "for i in range(n):\n",
    "    rank = 1\n",
    "    for j in range(n):\n",
    "        if num_list[i][0]<num_list[j][0] and num_list[i][1]<num_list[j][1]:\n",
    "            rank+=1\n",
    "    ans.append(rank)\n",
    "for i in range(n):\n",
    "    print(ans[i],end=' ')    "
   ]
  },
  {
   "cell_type": "code",
   "execution_count": null,
   "metadata": {},
   "outputs": [],
   "source": []
  }
 ],
 "metadata": {
  "kernelspec": {
   "display_name": "Python 3",
   "language": "python",
   "name": "python3"
  },
  "language_info": {
   "codemirror_mode": {
    "name": "ipython",
    "version": 3
   },
   "file_extension": ".py",
   "mimetype": "text/x-python",
   "name": "python",
   "nbconvert_exporter": "python",
   "pygments_lexer": "ipython3",
   "version": "3.7.6"
  }
 },
 "nbformat": 4,
 "nbformat_minor": 4
}
