{
 "cells": [
  {
   "cell_type": "code",
   "execution_count": 10,
   "metadata": {},
   "outputs": [
    {
     "name": "stdout",
     "output_type": "stream",
     "text": [
      "3 4\n",
      "0000\n",
      "0000\n",
      "0000\n",
      "0\n",
      "0\n",
      "0\n"
     ]
    }
   ],
   "source": [
    "n, m = map(int, input().split())\n",
    "A,B = [],[]\n",
    "for i in range(n):\n",
    "    A.append(list(map(int,list(input()))))\n",
    "for i in range(n):\n",
    "    B.append(list(map(int,list(input()))))"
   ]
  },
  {
   "cell_type": "code",
   "execution_count": 8,
   "metadata": {},
   "outputs": [],
   "source": [
    "def change(x,y,A):\n",
    "    for i in range(3):\n",
    "        for j in range(3):\n",
    "            if A[x+i][y+j]==0:\n",
    "                A[x+i][y+j]=1\n",
    "            else:\n",
    "                A[x+i][y+j]=0\n",
    "    return A"
   ]
  },
  {
   "cell_type": "code",
   "execution_count": 9,
   "metadata": {},
   "outputs": [
    {
     "name": "stdout",
     "output_type": "stream",
     "text": [
      "2\n"
     ]
    }
   ],
   "source": [
    "count = 0\n",
    "for i in range(n-3+1):\n",
    "    for j in range(m-3+1):\n",
    "        if A[i][j]!=B[i][j]:\n",
    "            A=change(i,j,A)\n",
    "            count+=1\n",
    "answer=True\n",
    "for i in range(n):\n",
    "    for j in range(m):\n",
    "        if A[i][j]!=B[i][j]:\n",
    "            answer=False\n",
    "if answer:\n",
    "    print(count)\n",
    "else:\n",
    "    print(-1)"
   ]
  },
  {
   "cell_type": "code",
   "execution_count": null,
   "metadata": {},
   "outputs": [],
   "source": []
  }
 ],
 "metadata": {
  "kernelspec": {
   "display_name": "Python 3",
   "language": "python",
   "name": "python3"
  },
  "language_info": {
   "codemirror_mode": {
    "name": "ipython",
    "version": 3
   },
   "file_extension": ".py",
   "mimetype": "text/x-python",
   "name": "python",
   "nbconvert_exporter": "python",
   "pygments_lexer": "ipython3",
   "version": "3.7.6"
  }
 },
 "nbformat": 4,
 "nbformat_minor": 4
}
