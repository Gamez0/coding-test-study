{
 "cells": [
  {
   "cell_type": "code",
   "execution_count": null,
   "metadata": {},
   "outputs": [],
   "source": [
    "import sys\n",
    "import math\n",
    "sys.setrecursionlimit(10000) # 재귀함수 제한 설정\n",
    "ans = 2000000000\n",
    "\n",
    "def binarySearch(x1, y1, z1, x2, y2, z2):\n",
    "    global ans,x,y,z\n",
    "\n",
    "    mx=(x1+x2)/2;\n",
    "    my=(y1+y2)/2;\n",
    "    mz=(z1+z2)/2;\n",
    "    \n",
    "    md= math.sqrt((mx-x)*(mx-x)+(my-y)*(my-y)+(mz-z)*(mz-z))\n",
    "    ld= math.sqrt((x1-x)*(x1-x)+(y1-y)*(y1-y)+(z1-z)*(z1-z))\n",
    "    rd= math.sqrt((x2-x)*(x2-x)+(y2-y)*(y2-y)+(z2-z)*(z2-z))\n",
    "    \n",
    "    if abs(ans-md)<=0.00000000001:\n",
    "        # 절대/상대 오차 10^-6 일 때 return\n",
    "        return\n",
    "    if md<ans:\n",
    "        ans=md\n",
    "    if ld<rd:\n",
    "        # x2,y2,z2를 mx,my,mz로 줄여준다\n",
    "        binarySearch(x1,y1,z1,mx,my,mz)\n",
    "    else:\n",
    "        # x1,y1,z1를 mx,my,mz로 늘려준다\n",
    "        binarySearch(mx,my,mz,x2,y2,z2)\n",
    "\n",
    "# 변수 입력\n",
    "x1,y1,z1,x2,y2,z2,x,y,z =(map(int,input().split()))\n",
    "\n",
    "binarySearch(x1,y1,z1,x2,y2,z2)\n",
    "print(ans)\n",
    "\n"
   ]
  }
 ],
 "metadata": {
  "kernelspec": {
   "display_name": "Python 3",
   "language": "python",
   "name": "python3"
  },
  "language_info": {
   "codemirror_mode": {
    "name": "ipython",
    "version": 3
   },
   "file_extension": ".py",
   "mimetype": "text/x-python",
   "name": "python",
   "nbconvert_exporter": "python",
   "pygments_lexer": "ipython3",
   "version": "3.7.6"
  }
 },
 "nbformat": 4,
 "nbformat_minor": 4
}
