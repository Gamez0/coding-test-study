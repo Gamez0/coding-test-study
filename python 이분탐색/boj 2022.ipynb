{
 "cells": [
  {
   "cell_type": "code",
   "execution_count": 10,
   "metadata": {},
   "outputs": [
    {
     "name": "stdout",
     "output_type": "stream",
     "text": [
      "12.619429 8.163332 3\n"
     ]
    }
   ],
   "source": [
    "import math\n",
    "x,y,c=map(float,input().split())\n",
    "left,right=0,min(x,y)"
   ]
  },
  {
   "cell_type": "code",
   "execution_count": 11,
   "metadata": {},
   "outputs": [],
   "source": [
    "while(abs(right-left)>1e-6):\n",
    "    mid=(left+right)/2.0\n",
    "    d=mid\n",
    "    h1=math.sqrt(x*x-d*d)\n",
    "    h2=math.sqrt(y*y-d*d)\n",
    "    h=(h1*h2)/(h1+h2)\n",
    "    if h>c:\n",
    "        left=mid\n",
    "    else:\n",
    "        right=mid"
   ]
  },
  {
   "cell_type": "code",
   "execution_count": 12,
   "metadata": {},
   "outputs": [
    {
     "name": "stdout",
     "output_type": "stream",
     "text": [
      "7.000\n"
     ]
    }
   ],
   "source": [
    "print(\"%.3f\"%round(mid,3))"
   ]
  },
  {
   "cell_type": "code",
   "execution_count": null,
   "metadata": {},
   "outputs": [],
   "source": []
  }
 ],
 "metadata": {
  "kernelspec": {
   "display_name": "Python 3",
   "language": "python",
   "name": "python3"
  },
  "language_info": {
   "codemirror_mode": {
    "name": "ipython",
    "version": 3
   },
   "file_extension": ".py",
   "mimetype": "text/x-python",
   "name": "python",
   "nbconvert_exporter": "python",
   "pygments_lexer": "ipython3",
   "version": "3.7.6"
  }
 },
 "nbformat": 4,
 "nbformat_minor": 4
}
