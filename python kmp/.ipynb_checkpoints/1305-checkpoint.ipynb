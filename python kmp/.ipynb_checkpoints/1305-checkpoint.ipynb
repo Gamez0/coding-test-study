{
 "cells": [
  {
   "cell_type": "code",
   "execution_count": 20,
   "metadata": {},
   "outputs": [],
   "source": [
    "def failure(pattern): # kmp failure function\n",
    "    table = [0]*len(pattern)\n",
    "    j=0\n",
    "    for i in range(1,len(pattern)):\n",
    "        while j>0 and pattern[i]!=pattern[j]: \n",
    "            j=table[j-1] # 불일치가 일어날 경우\n",
    "            \n",
    "        if pattern[i]==pattern[j]:\n",
    "            j+=1 # prefix가 같은 가중치만큼 \n",
    "            table[i]=j # 값을 정해준다\n",
    "    return table"
   ]
  },
  {
   "cell_type": "code",
   "execution_count": 21,
   "metadata": {},
   "outputs": [
    {
     "name": "stdout",
     "output_type": "stream",
     "text": [
      "5\n",
      "abaab\n",
      "3\n"
     ]
    }
   ],
   "source": [
    "n=int(input())\n",
    "pat=input().rstrip()\n",
    "print(n-failure(pat)[n-1])"
   ]
  },
  {
   "cell_type": "code",
   "execution_count": null,
   "metadata": {},
   "outputs": [],
   "source": []
  }
 ],
 "metadata": {
  "kernelspec": {
   "display_name": "Python 3",
   "language": "python",
   "name": "python3"
  },
  "language_info": {
   "codemirror_mode": {
    "name": "ipython",
    "version": 3
   },
   "file_extension": ".py",
   "mimetype": "text/x-python",
   "name": "python",
   "nbconvert_exporter": "python",
   "pygments_lexer": "ipython3",
   "version": "3.7.6"
  }
 },
 "nbformat": 4,
 "nbformat_minor": 4
}
