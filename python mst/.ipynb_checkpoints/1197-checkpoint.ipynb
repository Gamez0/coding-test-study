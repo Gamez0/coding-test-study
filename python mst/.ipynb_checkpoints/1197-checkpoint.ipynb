{
 "cells": [
  {
   "cell_type": "code",
   "execution_count": null,
   "metadata": {},
   "outputs": [],
   "source": [
    "from heapq import *\n",
    "heap=[]\n",
    "v,e=map(int,input().split())"
   ]
  },
  {
   "cell_type": "code",
   "execution_count": null,
   "metadata": {},
   "outputs": [],
   "source": [
    "ranks=[1]*(v+1)\n",
    "parent=[i for i in range(v+1)]"
   ]
  },
  {
   "cell_type": "code",
   "execution_count": 1,
   "metadata": {},
   "outputs": [],
   "source": [
    "def find(u):\n",
    "    if parent[u]==u:\n",
    "        return u\n",
    "    parent[u]=find(parent[u])\n",
    "    return parent[u]\n",
    "def merge(u,v):\n",
    "    u=find(u);v=find(v)\n",
    "    if ranks[u]<ranks[v]:\n",
    "        u,v=v,u\n",
    "    parent[v]=u\n",
    "    if ranks[u]==ranks[v]:\n",
    "        ranks[u]+=1"
   ]
  },
  {
   "cell_type": "code",
   "execution_count": null,
   "metadata": {},
   "outputs": [],
   "source": [
    "for _ in range(e):\n",
    "    a,b,c=map(int,input().split())\n",
    "    heappush(heap,(c,a,b))"
   ]
  },
  {
   "cell_type": "code",
   "execution_count": null,
   "metadata": {},
   "outputs": [],
   "source": [
    "ans=0\n",
    "while heap:\n",
    "    c,a,b=heappop(heap)\n",
    "    if find(a)!=find(b):\n",
    "        merge(a,b)\n",
    "        ans+=c\n",
    "print(ans)"
   ]
  }
 ],
 "metadata": {
  "kernelspec": {
   "display_name": "Python 3",
   "language": "python",
   "name": "python3"
  },
  "language_info": {
   "codemirror_mode": {
    "name": "ipython",
    "version": 3
   },
   "file_extension": ".py",
   "mimetype": "text/x-python",
   "name": "python",
   "nbconvert_exporter": "python",
   "pygments_lexer": "ipython3",
   "version": "3.7.6"
  }
 },
 "nbformat": 4,
 "nbformat_minor": 4
}
