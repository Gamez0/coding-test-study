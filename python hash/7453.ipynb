{
 "cells": [
  {
   "cell_type": "code",
   "execution_count": 4,
   "metadata": {
    "scrolled": false
   },
   "outputs": [
    {
     "name": "stdout",
     "output_type": "stream",
     "text": [
      "6\n",
      "-45 22 42 -16\n",
      "-41 -27 56 30\n",
      "-36 53 -37 77\n",
      "-36 30 -75 -46\n",
      "26 -38 -10 62\n",
      "-32 -54 -6 45\n"
     ]
    }
   ],
   "source": [
    "from sys import stdin\n",
    "A,B,C,D=[],[],[],[]\n",
    "n=int(stdin.readline())\n",
    "for _ in range(n):\n",
    "    a,b,c,d=map(int,stdin.readline().split())\n",
    "    A.append(a)\n",
    "    B.append(b)\n",
    "    C.append(c)\n",
    "    D.append(d)"
   ]
  },
  {
   "cell_type": "code",
   "execution_count": 19,
   "metadata": {},
   "outputs": [],
   "source": [
    "ab, cd= {},{}\n",
    "for a in A:\n",
    "    for b in B:\n",
    "        if not ab.get(a+b):\n",
    "            ab[a+b]=1\n",
    "        else:\n",
    "            ab[a+b]+=1\n",
    "for c in C:\n",
    "    for d in D:\n",
    "        if not cd.get(c+d):\n",
    "            cd[c+d]=1\n",
    "        else:\n",
    "            cd[c+d]+=1"
   ]
  },
  {
   "cell_type": "code",
   "execution_count": 24,
   "metadata": {},
   "outputs": [
    {
     "name": "stdout",
     "output_type": "stream",
     "text": [
      "1 1\n",
      "1 1\n",
      "1 1\n",
      "1 1\n",
      "1 1\n"
     ]
    }
   ],
   "source": [
    "ans =0\n",
    "for _, key in enumerate(ab):\n",
    "    if cd.get(-key):\n",
    "        ans+=ab.get(key)*cd.get(-key)"
   ]
  },
  {
   "cell_type": "code",
   "execution_count": 23,
   "metadata": {},
   "outputs": [
    {
     "name": "stdout",
     "output_type": "stream",
     "text": [
      "5\n"
     ]
    }
   ],
   "source": [
    "print(ans)"
   ]
  },
  {
   "cell_type": "code",
   "execution_count": null,
   "metadata": {},
   "outputs": [],
   "source": []
  }
 ],
 "metadata": {
  "kernelspec": {
   "display_name": "Python 3",
   "language": "python",
   "name": "python3"
  },
  "language_info": {
   "codemirror_mode": {
    "name": "ipython",
    "version": 3
   },
   "file_extension": ".py",
   "mimetype": "text/x-python",
   "name": "python",
   "nbconvert_exporter": "python",
   "pygments_lexer": "ipython3",
   "version": "3.7.6"
  }
 },
 "nbformat": 4,
 "nbformat_minor": 4
}
