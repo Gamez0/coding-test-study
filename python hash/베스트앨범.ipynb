{
 "cells": [
  {
   "cell_type": "code",
   "execution_count": null,
   "metadata": {},
   "outputs": [],
   "source": [
    "from collections import defaultdict\n",
    "from operator import itemgetter\n",
    "\n",
    "def solution(genres, plays):\n",
    "    genre_play_dict = defaultdict(lambda:0)\n",
    "    for genre,play in zip(genres,plays):\n",
    "        genre_play_dict[genre]+=play\n",
    "        \n",
    "    # 장르 재생 순으로 정렬    \n",
    "    genre_rank = [genre for genre, play in sorted(genre_play_dict.items(), key=itemgetter(1),reverse=True)]\n",
    "    \n",
    "    final_dict = defaultdict(lambda:[])\n",
    "    for i, genre_play_tuple in enumerate(zip(genres,plays)): # i: 고유 번호\n",
    "        final_dict[genre_play_tuple[0]].append((genre_play_tuple[1],i))\n",
    "        \n",
    "    answer = []\n",
    "    for genre in genre_rank:\n",
    "        one_genre_list = sorted(final_dict[genre],key=itemgetter(0),reverse=True)\n",
    "        answer.append(one_genre_list[0][1])\n",
    "        if len(one_genre_list)>1:\n",
    "            answer.append(one_genre_list[1][1])\n",
    "            \n",
    "    return answer"
   ]
  }
 ],
 "metadata": {
  "kernelspec": {
   "display_name": "Python 3",
   "language": "python",
   "name": "python3"
  },
  "language_info": {
   "codemirror_mode": {
    "name": "ipython",
    "version": 3
   },
   "file_extension": ".py",
   "mimetype": "text/x-python",
   "name": "python",
   "nbconvert_exporter": "python",
   "pygments_lexer": "ipython3",
   "version": "3.7.6"
  }
 },
 "nbformat": 4,
 "nbformat_minor": 4
}
