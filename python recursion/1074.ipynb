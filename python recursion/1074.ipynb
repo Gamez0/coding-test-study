{
 "cells": [
  {
   "cell_type": "code",
   "execution_count": 53,
   "metadata": {},
   "outputs": [
    {
     "name": "stdout",
     "output_type": "stream",
     "text": [
      "3 7 7\n"
     ]
    }
   ],
   "source": [
    "#재귀를 다 호출하면 시간초과 배열에 값을 저장하면 메모리 초과\n",
    "#재귀보단 r,c가 어디에 있는지 파악후 \n",
    "#num값을 규칙에 맞게 추가해서 풀어야한다."
   ]
  },
  {
   "cell_type": "code",
   "execution_count": null,
   "metadata": {},
   "outputs": [],
   "source": [
    "n, r, c = map(int, input().split())"
   ]
  },
  {
   "cell_type": "code",
   "execution_count": 79,
   "metadata": {},
   "outputs": [],
   "source": [
    "cnt =0\n",
    "num = 0"
   ]
  },
  {
   "cell_type": "code",
   "execution_count": 82,
   "metadata": {},
   "outputs": [
    {
     "name": "stdout",
     "output_type": "stream",
     "text": [
      "63\n"
     ]
    }
   ],
   "source": [
    "while n>0:\n",
    "    temp = (2**n)//2\n",
    "    if n>1:\n",
    "        if temp>r and temp<=c:\n",
    "            num+=temp**2\n",
    "            c-=temp\n",
    "        elif temp<=r and temp>c:\n",
    "            num+=(temp**2)*2\n",
    "            r-=temp\n",
    "        elif temp<= r and temp<=c:\n",
    "            num+=(temp**2)*3\n",
    "            r-=temp\n",
    "            c-=temp\n",
    "    elif n==1:\n",
    "        if r==0 and c==1:\n",
    "            num+=1\n",
    "        elif r==1 and c==0:\n",
    "            num+=2\n",
    "        elif r==1 and c==1:\n",
    "            num+=3\n",
    "    n-=1\n",
    "print(num)"
   ]
  },
  {
   "cell_type": "code",
   "execution_count": 80,
   "metadata": {},
   "outputs": [],
   "source": [
    "def recursion(n,x,y):\n",
    "    if n==1:\n",
    "        global cnt, r, c\n",
    "        if x==r and y==c:\n",
    "            print(cnt)\n",
    "            return\n",
    "        else:\n",
    "            cnt+=1\n",
    "        if x==r and y+1==c:\n",
    "            print(cnt)\n",
    "            return\n",
    "        else:\n",
    "            cnt+=2\n",
    "        if x+1==r and y==c:\n",
    "            print(cnt)\n",
    "            return\n",
    "        else:\n",
    "            cnt+=3\n",
    "        if x+1==r and y+1==c:\n",
    "            print(cnt)\n",
    "            return\n",
    "        else:\n",
    "            cnt+=4\n",
    "    else:\n",
    "        location = getLocation(x,y)\n",
    "        if location==0:\n",
    "            recursion(n-1,x,y)\n",
    "        elif location==1:\n",
    "            cnt+=2**(n-1)\n",
    "            recursion(n-1,x,y+2**(n-1))\n",
    "            \n",
    "        elif location==2:\n",
    "            cnt+=2**(n)\n",
    "            recursion(n-1,x+2**(n-1),y)\n",
    "        else:\n",
    "            cnt+=3*(2**(n-1))\n",
    "            recursion(n-1,x+2**(n-1),y+2**(n-1))"
   ]
  },
  {
   "cell_type": "code",
   "execution_count": 81,
   "metadata": {},
   "outputs": [
    {
     "name": "stdout",
     "output_type": "stream",
     "text": [
      "24\n"
     ]
    }
   ],
   "source": [
    "recursion(n,0,0)"
   ]
  },
  {
   "cell_type": "code",
   "execution_count": 42,
   "metadata": {},
   "outputs": [
    {
     "data": {
      "text/plain": [
       "[[0, 1, 4, 5, 16, 17, 20, 21],\n",
       " [2, 3, 6, 7, 18, 19, 22, 23],\n",
       " [8, 9, 12, 13, 24, 25, 28, 29],\n",
       " [10, 11, 14, 15, 26, 27, 30, 31],\n",
       " [32, 33, 36, 37, 48, 49, 52, 53],\n",
       " [34, 35, 38, 39, 50, 51, 54, 55],\n",
       " [40, 41, 44, 45, 56, 57, 60, 61],\n",
       " [42, 43, 46, 47, 58, 59, 62, 63]]"
      ]
     },
     "execution_count": 42,
     "metadata": {},
     "output_type": "execute_result"
    }
   ],
   "source": [
    "a"
   ]
  },
  {
   "cell_type": "code",
   "execution_count": 43,
   "metadata": {},
   "outputs": [
    {
     "name": "stdout",
     "output_type": "stream",
     "text": [
      "[[0, 1, 4, 5, 16, 17, 20, 21], [2, 3, 6, 7, 18, 19, 22, 23], [8, 9, 12, 13, 24, 25, 28, 29], [10, 11, 14, 15, 26, 27, 30, 31], [32, 33, 36, 37, 48, 49, 52, 53], [34, 35, 38, 39, 50, 51, 54, 55], [40, 41, 44, 45, 56, 57, 60, 61], [42, 43, 46, 47, 58, 59, 62, 63]]\n"
     ]
    }
   ],
   "source": [
    "print(a)"
   ]
  },
  {
   "cell_type": "code",
   "execution_count": 44,
   "metadata": {},
   "outputs": [
    {
     "name": "stdout",
     "output_type": "stream",
     "text": [
      "[0, 1, 4, 5, 16, 17, 20, 21]\n",
      "[2, 3, 6, 7, 18, 19, 22, 23]\n",
      "[8, 9, 12, 13, 24, 25, 28, 29]\n",
      "[10, 11, 14, 15, 26, 27, 30, 31]\n",
      "[32, 33, 36, 37, 48, 49, 52, 53]\n",
      "[34, 35, 38, 39, 50, 51, 54, 55]\n",
      "[40, 41, 44, 45, 56, 57, 60, 61]\n",
      "[42, 43, 46, 47, 58, 59, 62, 63]\n"
     ]
    }
   ],
   "source": [
    "for i in range(len(a)):\n",
    "    print(a[i])"
   ]
  },
  {
   "cell_type": "code",
   "execution_count": 45,
   "metadata": {},
   "outputs": [
    {
     "name": "stdout",
     "output_type": "stream",
     "text": [
      "63\n"
     ]
    }
   ],
   "source": [
    "print(a[r][c])"
   ]
  },
  {
   "cell_type": "code",
   "execution_count": null,
   "metadata": {},
   "outputs": [],
   "source": []
  }
 ],
 "metadata": {
  "kernelspec": {
   "display_name": "Python 3",
   "language": "python",
   "name": "python3"
  },
  "language_info": {
   "codemirror_mode": {
    "name": "ipython",
    "version": 3
   },
   "file_extension": ".py",
   "mimetype": "text/x-python",
   "name": "python",
   "nbconvert_exporter": "python",
   "pygments_lexer": "ipython3",
   "version": "3.7.6"
  }
 },
 "nbformat": 4,
 "nbformat_minor": 4
}
